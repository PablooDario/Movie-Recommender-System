{
 "cells": [
  {
   "cell_type": "markdown",
   "metadata": {},
   "source": [
    "## Films to show in the sing in web page\n",
    "\n",
    "On the sign-in page of the application, users will be required to rate at least 10 movies. To facilitate this, I will retrieve a list of 80 popular movies, as well as an additional 20 movies of my own selection. Users will be able to browse this list, select a movie, and provide a rating.\n",
    "\n",
    "Since the movie titles in the original dataset are in English, but my application targets users in Mexico, I will need to fetch the movie titles in Spanish to better serve the local audience."
   ]
  },
  {
   "cell_type": "code",
   "execution_count": 1,
   "metadata": {},
   "outputs": [
    {
     "data": {
      "text/plain": [
       "True"
      ]
     },
     "execution_count": 1,
     "metadata": {},
     "output_type": "execute_result"
    }
   ],
   "source": [
    "import pandas as pd\n",
    "import mysql.connector\n",
    "import requests\n",
    "import os\n",
    "from dotenv import load_dotenv\n",
    "\n",
    "# Load the environment variables .env\n",
    "load_dotenv()"
   ]
  },
  {
   "cell_type": "markdown",
   "metadata": {},
   "source": [
    "Previously, we filtered and selected several movies from the original dataset. Now, we will use the cleaned dataset to select the top 80 films."
   ]
  },
  {
   "cell_type": "code",
   "execution_count": 2,
   "metadata": {},
   "outputs": [
    {
     "data": {
      "text/html": [
       "<div>\n",
       "<style scoped>\n",
       "    .dataframe tbody tr th:only-of-type {\n",
       "        vertical-align: middle;\n",
       "    }\n",
       "\n",
       "    .dataframe tbody tr th {\n",
       "        vertical-align: top;\n",
       "    }\n",
       "\n",
       "    .dataframe thead th {\n",
       "        text-align: right;\n",
       "    }\n",
       "</style>\n",
       "<table border=\"1\" class=\"dataframe\">\n",
       "  <thead>\n",
       "    <tr style=\"text-align: right;\">\n",
       "      <th></th>\n",
       "      <th>movieId</th>\n",
       "      <th>id</th>\n",
       "      <th>title</th>\n",
       "      <th>genres</th>\n",
       "      <th>overview</th>\n",
       "      <th>release_date</th>\n",
       "      <th>popularity</th>\n",
       "      <th>runtime</th>\n",
       "      <th>status</th>\n",
       "      <th>tagline</th>\n",
       "      <th>vote_average</th>\n",
       "      <th>vote_count</th>\n",
       "      <th>poster_path</th>\n",
       "      <th>backdrop_path</th>\n",
       "      <th>cast</th>\n",
       "      <th>director</th>\n",
       "      <th>keywords</th>\n",
       "    </tr>\n",
       "  </thead>\n",
       "  <tbody>\n",
       "    <tr>\n",
       "      <th>0</th>\n",
       "      <td>221850</td>\n",
       "      <td>614696</td>\n",
       "      <td>#Alive</td>\n",
       "      <td>[{'id': 28, 'name': 'Action'}, {'id': 27, 'nam...</td>\n",
       "      <td>As a grisly virus rampages a city, a lone man ...</td>\n",
       "      <td>2020-06-24</td>\n",
       "      <td>3.6641</td>\n",
       "      <td>98.0</td>\n",
       "      <td>Released</td>\n",
       "      <td>You must survive.</td>\n",
       "      <td>7.231</td>\n",
       "      <td>1868.0</td>\n",
       "      <td>/lZPvLUMYEPLTE2df1VW5FHTYC8N.jpg</td>\n",
       "      <td>/k2SY15W9QXH9qL8f4a4BbytV1BE.jpg</td>\n",
       "      <td>['Yoo Ah-in', 'Park Shin-hye', 'Lee Hyun-wook']</td>\n",
       "      <td>Cho Il</td>\n",
       "      <td>['escape', 'alone', 'survival', 'drone', 'zomb...</td>\n",
       "    </tr>\n",
       "    <tr>\n",
       "      <th>1</th>\n",
       "      <td>212989</td>\n",
       "      <td>605734</td>\n",
       "      <td>#Iamhere</td>\n",
       "      <td>[{'id': 35, 'name': 'Comedy'}, {'id': 10749, '...</td>\n",
       "      <td>Stéphane lives a quiet life as an eminent Fren...</td>\n",
       "      <td>2020-02-05</td>\n",
       "      <td>0.6237</td>\n",
       "      <td>100.0</td>\n",
       "      <td>Released</td>\n",
       "      <td>NaN</td>\n",
       "      <td>5.600</td>\n",
       "      <td>208.0</td>\n",
       "      <td>/yxHDlr90ww0XZt3U26W95JNExf3.jpg</td>\n",
       "      <td>/g5ZCG8coC1bfB81anxL52l30uDe.jpg</td>\n",
       "      <td>['Alain Chabat', 'Bae Doona', 'Jules Sagot']</td>\n",
       "      <td>Eric Lartigau</td>\n",
       "      <td>['seoul, south korea']</td>\n",
       "    </tr>\n",
       "    <tr>\n",
       "      <th>2</th>\n",
       "      <td>177545</td>\n",
       "      <td>455656</td>\n",
       "      <td>#realityhigh</td>\n",
       "      <td>[{'id': 35, 'name': 'Comedy'}]</td>\n",
       "      <td>When nerdy high schooler Dani finally attracts...</td>\n",
       "      <td>2017-07-17</td>\n",
       "      <td>1.4162</td>\n",
       "      <td>99.0</td>\n",
       "      <td>Released</td>\n",
       "      <td>NaN</td>\n",
       "      <td>6.280</td>\n",
       "      <td>1028.0</td>\n",
       "      <td>/iZliPeiiDta9KbONAhdFSXhTxrO.jpg</td>\n",
       "      <td>/smgZYp49OB6xo4hZewxzryrh5xN.jpg</td>\n",
       "      <td>['Nesta Cooper', 'Keith Powers', 'Alicia Sanz']</td>\n",
       "      <td>Fernando Lebrija</td>\n",
       "      <td>['high school', 'nerd', 'teenage crush', 'soci...</td>\n",
       "    </tr>\n",
       "    <tr>\n",
       "      <th>3</th>\n",
       "      <td>117867</td>\n",
       "      <td>252178</td>\n",
       "      <td>'71</td>\n",
       "      <td>[{'id': 53, 'name': 'Thriller'}, {'id': 28, 'n...</td>\n",
       "      <td>A young British soldier must find his way back...</td>\n",
       "      <td>2014-10-10</td>\n",
       "      <td>1.3967</td>\n",
       "      <td>99.0</td>\n",
       "      <td>Released</td>\n",
       "      <td>NaN</td>\n",
       "      <td>6.803</td>\n",
       "      <td>1137.0</td>\n",
       "      <td>/xjorsS84euahsmGlnEEeE3LFSVZ.jpg</td>\n",
       "      <td>/aTloiKdNs2c8vlstbx3wBWD6Thi.jpg</td>\n",
       "      <td>[\"Jack O'Connell\", 'Sean Harris', 'Paul Anders...</td>\n",
       "      <td>Yann Demange</td>\n",
       "      <td>['1970s', 'riot', 'northern ireland', 'surviva...</td>\n",
       "    </tr>\n",
       "    <tr>\n",
       "      <th>4</th>\n",
       "      <td>69757</td>\n",
       "      <td>19913</td>\n",
       "      <td>(500) Days of Summer</td>\n",
       "      <td>[{'id': 35, 'name': 'Comedy'}, {'id': 18, 'nam...</td>\n",
       "      <td>Tom, greeting-card writer and hopeless romanti...</td>\n",
       "      <td>2009-07-17</td>\n",
       "      <td>9.5369</td>\n",
       "      <td>95.0</td>\n",
       "      <td>Released</td>\n",
       "      <td>This is not a love story. This is a story abou...</td>\n",
       "      <td>7.293</td>\n",
       "      <td>10342.0</td>\n",
       "      <td>/qXAuQ9hF30sQRsXf40OfRVl0MJZ.jpg</td>\n",
       "      <td>/1M2i4Mxd03elGOTmEkIvqrHfmyS.jpg</td>\n",
       "      <td>['Joseph Gordon-Levitt', 'Zooey Deschanel', 'G...</td>\n",
       "      <td>Marc Webb</td>\n",
       "      <td>['jealousy', 'gallery', 'fight', 'date', 'arch...</td>\n",
       "    </tr>\n",
       "  </tbody>\n",
       "</table>\n",
       "</div>"
      ],
      "text/plain": [
       "   movieId      id                 title  \\\n",
       "0   221850  614696                #Alive   \n",
       "1   212989  605734              #Iamhere   \n",
       "2   177545  455656          #realityhigh   \n",
       "3   117867  252178                   '71   \n",
       "4    69757   19913  (500) Days of Summer   \n",
       "\n",
       "                                              genres  \\\n",
       "0  [{'id': 28, 'name': 'Action'}, {'id': 27, 'nam...   \n",
       "1  [{'id': 35, 'name': 'Comedy'}, {'id': 10749, '...   \n",
       "2                     [{'id': 35, 'name': 'Comedy'}]   \n",
       "3  [{'id': 53, 'name': 'Thriller'}, {'id': 28, 'n...   \n",
       "4  [{'id': 35, 'name': 'Comedy'}, {'id': 18, 'nam...   \n",
       "\n",
       "                                            overview release_date  popularity  \\\n",
       "0  As a grisly virus rampages a city, a lone man ...   2020-06-24      3.6641   \n",
       "1  Stéphane lives a quiet life as an eminent Fren...   2020-02-05      0.6237   \n",
       "2  When nerdy high schooler Dani finally attracts...   2017-07-17      1.4162   \n",
       "3  A young British soldier must find his way back...   2014-10-10      1.3967   \n",
       "4  Tom, greeting-card writer and hopeless romanti...   2009-07-17      9.5369   \n",
       "\n",
       "   runtime    status                                            tagline  \\\n",
       "0     98.0  Released                                  You must survive.   \n",
       "1    100.0  Released                                                NaN   \n",
       "2     99.0  Released                                                NaN   \n",
       "3     99.0  Released                                                NaN   \n",
       "4     95.0  Released  This is not a love story. This is a story abou...   \n",
       "\n",
       "   vote_average  vote_count                       poster_path  \\\n",
       "0         7.231      1868.0  /lZPvLUMYEPLTE2df1VW5FHTYC8N.jpg   \n",
       "1         5.600       208.0  /yxHDlr90ww0XZt3U26W95JNExf3.jpg   \n",
       "2         6.280      1028.0  /iZliPeiiDta9KbONAhdFSXhTxrO.jpg   \n",
       "3         6.803      1137.0  /xjorsS84euahsmGlnEEeE3LFSVZ.jpg   \n",
       "4         7.293     10342.0  /qXAuQ9hF30sQRsXf40OfRVl0MJZ.jpg   \n",
       "\n",
       "                      backdrop_path  \\\n",
       "0  /k2SY15W9QXH9qL8f4a4BbytV1BE.jpg   \n",
       "1  /g5ZCG8coC1bfB81anxL52l30uDe.jpg   \n",
       "2  /smgZYp49OB6xo4hZewxzryrh5xN.jpg   \n",
       "3  /aTloiKdNs2c8vlstbx3wBWD6Thi.jpg   \n",
       "4  /1M2i4Mxd03elGOTmEkIvqrHfmyS.jpg   \n",
       "\n",
       "                                                cast          director  \\\n",
       "0    ['Yoo Ah-in', 'Park Shin-hye', 'Lee Hyun-wook']            Cho Il   \n",
       "1       ['Alain Chabat', 'Bae Doona', 'Jules Sagot']     Eric Lartigau   \n",
       "2    ['Nesta Cooper', 'Keith Powers', 'Alicia Sanz']  Fernando Lebrija   \n",
       "3  [\"Jack O'Connell\", 'Sean Harris', 'Paul Anders...      Yann Demange   \n",
       "4  ['Joseph Gordon-Levitt', 'Zooey Deschanel', 'G...         Marc Webb   \n",
       "\n",
       "                                            keywords  \n",
       "0  ['escape', 'alone', 'survival', 'drone', 'zomb...  \n",
       "1                             ['seoul, south korea']  \n",
       "2  ['high school', 'nerd', 'teenage crush', 'soci...  \n",
       "3  ['1970s', 'riot', 'northern ireland', 'surviva...  \n",
       "4  ['jealousy', 'gallery', 'fight', 'date', 'arch...  "
      ]
     },
     "execution_count": 2,
     "metadata": {},
     "output_type": "execute_result"
    }
   ],
   "source": [
    "df = pd.read_csv('../Data/Processed/movies_final.csv')\n",
    "df.head()"
   ]
  },
  {
   "cell_type": "markdown",
   "metadata": {},
   "source": [
    "Filter the 80 movies with highest vote count, i.e. the most viewed, so we increase the probability that the user has seen any of these movies."
   ]
  },
  {
   "cell_type": "code",
   "execution_count": 3,
   "metadata": {},
   "outputs": [
    {
     "data": {
      "text/html": [
       "<div>\n",
       "<style scoped>\n",
       "    .dataframe tbody tr th:only-of-type {\n",
       "        vertical-align: middle;\n",
       "    }\n",
       "\n",
       "    .dataframe tbody tr th {\n",
       "        vertical-align: top;\n",
       "    }\n",
       "\n",
       "    .dataframe thead th {\n",
       "        text-align: right;\n",
       "    }\n",
       "</style>\n",
       "<table border=\"1\" class=\"dataframe\">\n",
       "  <thead>\n",
       "    <tr style=\"text-align: right;\">\n",
       "      <th></th>\n",
       "      <th>movieId</th>\n",
       "      <th>id</th>\n",
       "      <th>title</th>\n",
       "      <th>poster_path</th>\n",
       "    </tr>\n",
       "  </thead>\n",
       "  <tbody>\n",
       "    <tr>\n",
       "      <th>3683</th>\n",
       "      <td>79132</td>\n",
       "      <td>27205</td>\n",
       "      <td>Inception</td>\n",
       "      <td>/ljsZTbVsrQSqZgWeep2B1QiDKuh.jpg</td>\n",
       "    </tr>\n",
       "    <tr>\n",
       "      <th>3742</th>\n",
       "      <td>109487</td>\n",
       "      <td>157336</td>\n",
       "      <td>Interstellar</td>\n",
       "      <td>/gEU2QniE6E77NI6lCU6MxlNBvIx.jpg</td>\n",
       "    </tr>\n",
       "    <tr>\n",
       "      <th>7427</th>\n",
       "      <td>58559</td>\n",
       "      <td>155</td>\n",
       "      <td>The Dark Knight</td>\n",
       "      <td>/qJ2tW6WMUDux911r6m7haRef0WH.jpg</td>\n",
       "    </tr>\n",
       "    <tr>\n",
       "      <th>816</th>\n",
       "      <td>72998</td>\n",
       "      <td>19995</td>\n",
       "      <td>Avatar</td>\n",
       "      <td>/kyeqWdyUXW608qlYkRqosgbbJyK.jpg</td>\n",
       "    </tr>\n",
       "    <tr>\n",
       "      <th>2032</th>\n",
       "      <td>122904</td>\n",
       "      <td>293660</td>\n",
       "      <td>Deadpool</td>\n",
       "      <td>/3E53WEZJqP6aM84D8CckXx4pIHw.jpg</td>\n",
       "    </tr>\n",
       "    <tr>\n",
       "      <th>7123</th>\n",
       "      <td>89745</td>\n",
       "      <td>24428</td>\n",
       "      <td>The Avengers</td>\n",
       "      <td>/RYMX2wcKCBAr24UyPD7xwmjaTn.jpg</td>\n",
       "    </tr>\n",
       "    <tr>\n",
       "      <th>821</th>\n",
       "      <td>122912</td>\n",
       "      <td>299536</td>\n",
       "      <td>Avengers: Infinity War</td>\n",
       "      <td>/7WsyChQLEftFiDOVTGkv3hFpyyt.jpg</td>\n",
       "    </tr>\n",
       "    <tr>\n",
       "      <th>2685</th>\n",
       "      <td>2959</td>\n",
       "      <td>550</td>\n",
       "      <td>Fight Club</td>\n",
       "      <td>/pB8BM7pdSp6B6Ih7QZ4DrQ3PmJK.jpg</td>\n",
       "    </tr>\n",
       "    <tr>\n",
       "      <th>5758</th>\n",
       "      <td>296</td>\n",
       "      <td>680</td>\n",
       "      <td>Pulp Fiction</td>\n",
       "      <td>/vQWk5YBFWF4bZaofAbv0tShwBvQ.jpg</td>\n",
       "    </tr>\n",
       "    <tr>\n",
       "      <th>3146</th>\n",
       "      <td>112852</td>\n",
       "      <td>118340</td>\n",
       "      <td>Guardians of the Galaxy</td>\n",
       "      <td>/jPrJPZKJVhvyJ4DmUTrDgmFN0yG.jpg</td>\n",
       "    </tr>\n",
       "  </tbody>\n",
       "</table>\n",
       "</div>"
      ],
      "text/plain": [
       "      movieId      id                    title  \\\n",
       "3683    79132   27205                Inception   \n",
       "3742   109487  157336             Interstellar   \n",
       "7427    58559     155          The Dark Knight   \n",
       "816     72998   19995                   Avatar   \n",
       "2032   122904  293660                 Deadpool   \n",
       "7123    89745   24428             The Avengers   \n",
       "821    122912  299536   Avengers: Infinity War   \n",
       "2685     2959     550               Fight Club   \n",
       "5758      296     680             Pulp Fiction   \n",
       "3146   112852  118340  Guardians of the Galaxy   \n",
       "\n",
       "                           poster_path  \n",
       "3683  /ljsZTbVsrQSqZgWeep2B1QiDKuh.jpg  \n",
       "3742  /gEU2QniE6E77NI6lCU6MxlNBvIx.jpg  \n",
       "7427  /qJ2tW6WMUDux911r6m7haRef0WH.jpg  \n",
       "816   /kyeqWdyUXW608qlYkRqosgbbJyK.jpg  \n",
       "2032  /3E53WEZJqP6aM84D8CckXx4pIHw.jpg  \n",
       "7123   /RYMX2wcKCBAr24UyPD7xwmjaTn.jpg  \n",
       "821   /7WsyChQLEftFiDOVTGkv3hFpyyt.jpg  \n",
       "2685  /pB8BM7pdSp6B6Ih7QZ4DrQ3PmJK.jpg  \n",
       "5758  /vQWk5YBFWF4bZaofAbv0tShwBvQ.jpg  \n",
       "3146  /jPrJPZKJVhvyJ4DmUTrDgmFN0yG.jpg  "
      ]
     },
     "execution_count": 3,
     "metadata": {},
     "output_type": "execute_result"
    }
   ],
   "source": [
    "top_films = df.sort_values(by=['vote_count'], ascending=False)[['movieId', 'id', 'title', 'poster_path']][:80]\n",
    "top_films.head(10)"
   ]
  },
  {
   "cell_type": "markdown",
   "metadata": {},
   "source": [
    "Now I'll select some movies that I consider are very good films and are pretty poupulars."
   ]
  },
  {
   "cell_type": "code",
   "execution_count": 4,
   "metadata": {},
   "outputs": [],
   "source": [
    "my_movies = [\"Schindler's List\", \"La La Land\", \"Dead Poets Society\", \"The Silence of the Lambs\", \"Good Will Hunting\", \"The Departed\", \"Spirited Away\", \n",
    "             \"Life Is Beautiful\", \"City of God\", \"Cinema Paradiso\", \"Howl's Moving Castle\", \"Whiplash\", 'Weathering with You', \"The Intouchables\", \"300\", \n",
    "             \"The Maze Runner\", \"About Time\", \"I Am Legend\", \"The Green Mile\", \"Her\"]"
   ]
  },
  {
   "cell_type": "code",
   "execution_count": 5,
   "metadata": {},
   "outputs": [
    {
     "data": {
      "text/plain": [
       "(20, 4)"
      ]
     },
     "execution_count": 5,
     "metadata": {},
     "output_type": "execute_result"
    }
   ],
   "source": [
    "mdf = df[df['title'].isin(my_movies)][['movieId', 'id', 'title', 'poster_path']]\n",
    "mdf.shape"
   ]
  },
  {
   "cell_type": "markdown",
   "metadata": {},
   "source": [
    "Verify that the movies that I selected are not in the top films DataFrame"
   ]
  },
  {
   "cell_type": "code",
   "execution_count": 6,
   "metadata": {},
   "outputs": [
    {
     "data": {
      "text/html": [
       "<div>\n",
       "<style scoped>\n",
       "    .dataframe tbody tr th:only-of-type {\n",
       "        vertical-align: middle;\n",
       "    }\n",
       "\n",
       "    .dataframe tbody tr th {\n",
       "        vertical-align: top;\n",
       "    }\n",
       "\n",
       "    .dataframe thead th {\n",
       "        text-align: right;\n",
       "    }\n",
       "</style>\n",
       "<table border=\"1\" class=\"dataframe\">\n",
       "  <thead>\n",
       "    <tr style=\"text-align: right;\">\n",
       "      <th></th>\n",
       "      <th>movieId</th>\n",
       "      <th>id</th>\n",
       "      <th>title</th>\n",
       "      <th>poster_path</th>\n",
       "    </tr>\n",
       "  </thead>\n",
       "  <tbody>\n",
       "  </tbody>\n",
       "</table>\n",
       "</div>"
      ],
      "text/plain": [
       "Empty DataFrame\n",
       "Columns: [movieId, id, title, poster_path]\n",
       "Index: []"
      ]
     },
     "execution_count": 6,
     "metadata": {},
     "output_type": "execute_result"
    }
   ],
   "source": [
    "mdf[mdf['id'].isin(top_films['id'])]"
   ]
  },
  {
   "cell_type": "markdown",
   "metadata": {},
   "source": [
    "We don't have duplicated films, so we are going to concatenate both DataFrames"
   ]
  },
  {
   "cell_type": "code",
   "execution_count": 7,
   "metadata": {},
   "outputs": [],
   "source": [
    "top_films = pd.concat([top_films, mdf])"
   ]
  },
  {
   "cell_type": "markdown",
   "metadata": {},
   "source": [
    "## Request"
   ]
  },
  {
   "cell_type": "code",
   "execution_count": 8,
   "metadata": {},
   "outputs": [],
   "source": [
    "api_key = os.getenv('tmdb_api_key')\n",
    "movies = []\n",
    "id_errors = []"
   ]
  },
  {
   "cell_type": "markdown",
   "metadata": {},
   "source": [
    "### Spanish Title\n",
    "\n",
    "First, I will test the URL to retrieve the title in Spanish and examine how the response is structured."
   ]
  },
  {
   "cell_type": "code",
   "execution_count": 9,
   "metadata": {},
   "outputs": [
    {
     "name": "stdout",
     "output_type": "stream",
     "text": [
      "dict_keys(['id', 'titles'])\n"
     ]
    }
   ],
   "source": [
    "movie_id = 155 # Inception\n",
    "url = f\"https://api.themoviedb.org/3/movie/{movie_id}/alternative_titles?api_key={api_key}\"\n",
    "response = requests.get(url)\n",
    "# Verify if the request was successful\n",
    "if response.status_code == 200:\n",
    "    # Convert the response to a python dictionary\n",
    "    data = response.json()\n",
    "else:\n",
    "    print(f\"Error: {response.status_code}\")\n",
    "    \n",
    "print(data.keys())"
   ]
  },
  {
   "cell_type": "code",
   "execution_count": 10,
   "metadata": {},
   "outputs": [
    {
     "name": "stdout",
     "output_type": "stream",
     "text": [
      "{'iso_3166_1': 'US', 'title': 'Batman: The Dark Knight', 'type': ''}\n",
      "{'iso_3166_1': 'KR', 'title': '배트맨 다크 나이트', 'type': ''}\n",
      "{'iso_3166_1': 'FR', 'title': 'Batman, Le Chevalier Noir', 'type': ''}\n",
      "{'iso_3166_1': 'RU', 'title': 'Темный рыцарь', 'type': ''}\n",
      "{'iso_3166_1': 'PL', 'title': 'Mroczny Rycerz', 'type': ''}\n",
      "{'iso_3166_1': 'US', 'title': 'Batman II: The Dark Knight', 'type': 'Alternative Title'}\n",
      "{'iso_3166_1': 'DE', 'title': 'Batman - The Dark Knight', 'type': ''}\n",
      "{'iso_3166_1': 'US', 'title': 'The Dark Knight 2: The Dark Knight', 'type': 'Full Formal'}\n",
      "{'iso_3166_1': 'JP', 'title': 'ダークナイト：2008', 'type': ''}\n",
      "{'iso_3166_1': 'IQ', 'title': 'سوارچاكی تاریكی', 'type': ''}\n",
      "{'iso_3166_1': 'ES', 'title': 'El caballero oscuro', 'type': 'Español'}\n",
      "{'iso_3166_1': 'VN', 'title': 'Hiệp Sĩ Bóng Đêm', 'type': ''}\n",
      "{'iso_3166_1': 'ES', 'title': 'Batman (El caballero oscuro) - 2. El caballero oscuro', 'type': 'Español'}\n",
      "{'iso_3166_1': 'DE', 'title': 'The Dark Knight 2: The Dark Knight', 'type': ''}\n",
      "{'iso_3166_1': 'GE', 'title': 'შავი მხედარი', 'type': ''}\n",
      "{'iso_3166_1': 'AM', 'title': 'Խավարի Ասպետը', 'type': ''}\n",
      "{'iso_3166_1': 'CN', 'title': '蝙蝠侠6：黑暗骑士', 'type': ''}\n"
     ]
    }
   ],
   "source": [
    "for title in data['titles']:\n",
    "    print(title)"
   ]
  },
  {
   "cell_type": "markdown",
   "metadata": {},
   "source": [
    "As we can see, each object in the response is a dictionary with three keys. The most important key is 'iso_3166_1', which represents the country code. To retrieve the title in Spanish, we will focus on the values for 'ES' (Spain) or 'MX' (Mexico)."
   ]
  },
  {
   "cell_type": "markdown",
   "metadata": {},
   "source": [
    "## Retrieve the Title in Spanish\n",
    "\n",
    "Once we understand the structure of each response, we will retrieve the spanish title for all the desired movies."
   ]
  },
  {
   "cell_type": "code",
   "execution_count": 11,
   "metadata": {},
   "outputs": [],
   "source": [
    "def get_title(movie_id, titles):\n",
    "    # Initialize the title variables\n",
    "    mx_title = None\n",
    "    es_title = None\n",
    "\n",
    "    # Search for the titles in Spanish (Mexico and Spain)\n",
    "    for title in titles:\n",
    "        if title['iso_3166_1'] == 'MX':\n",
    "            mx_title = title['title']\n",
    "        elif title['iso_3166_1'] == 'ES':\n",
    "            es_title = title['title']\n",
    "\n",
    "    # Return the appropriate title or fallback to English if not found\n",
    "    if mx_title:\n",
    "        return mx_title\n",
    "    elif es_title:\n",
    "        return es_title\n",
    "\n",
    "    # If no title found in Spanish, return the English title from the original dataset\n",
    "    return top_films[top_films['id'] == movie_id]['title'].iat[0]\n"
   ]
  },
  {
   "cell_type": "code",
   "execution_count": 12,
   "metadata": {},
   "outputs": [],
   "source": [
    "def get_title_and_poster(ids):\n",
    "    for movie_id in ids:\n",
    "        # URLs to get the title in Spanish\n",
    "        title_url = f\"https://api.themoviedb.org/3/movie/{movie_id}/alternative_titles?api_key={api_key}\"\n",
    "        try:\n",
    "            # Request to fetch the titles\n",
    "            response = requests.get(title_url)\n",
    "\n",
    "            # Verify if the request was successful\n",
    "            if response.status_code == 200:\n",
    "                titles = response.json()\n",
    "                # Get the title in Spanish if available, else get it in English\n",
    "                sp_title = get_title(movie_id, titles['titles'])\n",
    "                # Append movie details to the movies list\n",
    "                movies.append([movie_id, sp_title])\n",
    "            else:\n",
    "                id_errors.append(movie_id)\n",
    "        except requests.exceptions.RequestException as e:\n",
    "            # Handle any network-related or request errors\n",
    "            print(f\"Error fetching data for movie ID {movie_id}: {e}\")\n",
    "            id_errors.append(movie_id)"
   ]
  },
  {
   "cell_type": "code",
   "execution_count": 13,
   "metadata": {},
   "outputs": [
    {
     "name": "stdout",
     "output_type": "stream",
     "text": [
      "We have retrieved correctly 100 and we had 0 problems\n"
     ]
    }
   ],
   "source": [
    "get_title_and_poster(top_films['id'])\n",
    "print(f'We have retrieved correctly {len(movies)} and we had {len(id_errors)} problems')"
   ]
  },
  {
   "cell_type": "markdown",
   "metadata": {},
   "source": [
    "Not lets see how the current titles are"
   ]
  },
  {
   "cell_type": "code",
   "execution_count": 14,
   "metadata": {},
   "outputs": [
    {
     "data": {
      "text/plain": [
       "[[27205, 'El Origen'],\n",
       " [157336, 'Interestelar'],\n",
       " [155, 'Batman (El caballero oscuro) - 2. El caballero oscuro'],\n",
       " [19995, 'Avatar'],\n",
       " [293660, 'Deadpool: 1'],\n",
       " [24428, 'Vengadores'],\n",
       " [299536, 'Vengadores: Infinity War'],\n",
       " [550, 'Fight Club'],\n",
       " [680, 'Tiempos violentos'],\n",
       " [118340, 'Guardianes de la galaxia - Volumen 1']]"
      ]
     },
     "execution_count": 14,
     "metadata": {},
     "output_type": "execute_result"
    }
   ],
   "source": [
    "movies[:10]"
   ]
  },
  {
   "cell_type": "code",
   "execution_count": 15,
   "metadata": {},
   "outputs": [
    {
     "data": {
      "text/plain": [
       "[[27205, 'El Origen'],\n",
       " [157336, 'Interestelar'],\n",
       " [155, 'Batman: El Caballero Oscuro'],\n",
       " [19995, 'Avatar'],\n",
       " [293660, 'Deadpool: 1']]"
      ]
     },
     "execution_count": 15,
     "metadata": {},
     "output_type": "execute_result"
    }
   ],
   "source": [
    "# Correct the title of Batman: The Dark Knight\n",
    "movies[2][1] = 'Batman: El Caballero Oscuro'\n",
    "movies[:5]"
   ]
  },
  {
   "cell_type": "markdown",
   "metadata": {},
   "source": [
    "## Add the Poster Path"
   ]
  },
  {
   "cell_type": "code",
   "execution_count": 16,
   "metadata": {},
   "outputs": [],
   "source": [
    "for idx, poster_path in enumerate(top_films['poster_path']):\n",
    "    movies[idx].append(poster_path)"
   ]
  },
  {
   "cell_type": "code",
   "execution_count": 17,
   "metadata": {},
   "outputs": [
    {
     "data": {
      "text/plain": [
       "[[27205, 'El Origen', '/ljsZTbVsrQSqZgWeep2B1QiDKuh.jpg'],\n",
       " [157336, 'Interestelar', '/gEU2QniE6E77NI6lCU6MxlNBvIx.jpg']]"
      ]
     },
     "execution_count": 17,
     "metadata": {},
     "output_type": "execute_result"
    }
   ],
   "source": [
    "movies[:2]"
   ]
  },
  {
   "cell_type": "markdown",
   "metadata": {},
   "source": [
    "## Insert them in the DataBase\n",
    "\n",
    "Once we have all the desired movies with it's title in spnaish and with its poster path, we are going to insert them in the database"
   ]
  },
  {
   "cell_type": "code",
   "execution_count": 18,
   "metadata": {},
   "outputs": [],
   "source": [
    "# Connect to MySQL\n",
    "conn = mysql.connector.connect(\n",
    "    host = os.getenv('DB_HOST'),\n",
    "    user = os.getenv('DB_USER'),\n",
    "    password = os.getenv('DB_PASSWORD'),\n",
    "    database = os.getenv('DB_NAME')\n",
    ")\n",
    "\n",
    "cursor = conn.cursor()"
   ]
  },
  {
   "cell_type": "code",
   "execution_count": 19,
   "metadata": {},
   "outputs": [],
   "source": [
    "for movie in movies:\n",
    "    cursor.execute(\"\"\"\n",
    "        INSERT INTO top_films (movieId, title, poster_path)\n",
    "        VALUES (%s, %s, %s)\n",
    "    \"\"\", (movie[0], movie[1], movie[2]))\n",
    "\n",
    "# Commit the changes and Close the connection\n",
    "conn.commit()\n",
    "cursor.close()\n",
    "conn.close()"
   ]
  }
 ],
 "metadata": {
  "kernelspec": {
   "display_name": "Python 3",
   "language": "python",
   "name": "python3"
  },
  "language_info": {
   "codemirror_mode": {
    "name": "ipython",
    "version": 3
   },
   "file_extension": ".py",
   "mimetype": "text/x-python",
   "name": "python",
   "nbconvert_exporter": "python",
   "pygments_lexer": "ipython3",
   "version": "3.12.0"
  }
 },
 "nbformat": 4,
 "nbformat_minor": 2
}
