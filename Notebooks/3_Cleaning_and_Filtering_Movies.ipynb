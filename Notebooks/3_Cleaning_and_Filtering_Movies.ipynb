{
 "cells": [
  {
   "cell_type": "markdown",
   "metadata": {},
   "source": [
    "# Cleaning and Filtering the Movies Dataset\n",
    "\n",
    "In the first notebook, we conducted an Exploratory Data Analysis (EDA) on the movies dataset to ensure we have enough data and understand its structure. In this notebook, I will clean and filter some movies so we have only relevant films for our recommender system"
   ]
  },
  {
   "cell_type": "code",
   "execution_count": 2,
   "metadata": {},
   "outputs": [],
   "source": [
    "import pandas as pd\n",
    "import ast\n",
    "import numpy as np\n",
    "import warnings\n",
    "warnings.filterwarnings(\"ignore\")"
   ]
  },
  {
   "cell_type": "markdown",
   "metadata": {},
   "source": [
    "## Movies Dataset"
   ]
  },
  {
   "cell_type": "code",
   "execution_count": 3,
   "metadata": {},
   "outputs": [
    {
     "data": {
      "text/plain": [
       "Index(['adult', 'backdrop_path', 'belongs_to_collection', 'budget', 'genres',\n",
       "       'homepage', 'id', 'imdb_id', 'origin_country', 'original_language',\n",
       "       'original_title', 'overview', 'popularity', 'poster_path',\n",
       "       'production_companies', 'production_countries', 'release_date',\n",
       "       'revenue', 'runtime', 'spoken_languages', 'status', 'tagline', 'title',\n",
       "       'video', 'vote_average', 'vote_count', 'movieId'],\n",
       "      dtype='object')"
      ]
     },
     "execution_count": 3,
     "metadata": {},
     "output_type": "execute_result"
    }
   ],
   "source": [
    "mdf = pd.read_csv('../Data/Raw/movies_metadata.csv', quotechar='\"', lineterminator='\\n')\n",
    "mdf.columns"
   ]
  },
  {
   "cell_type": "code",
   "execution_count": 4,
   "metadata": {},
   "outputs": [
    {
     "data": {
      "text/html": [
       "<div>\n",
       "<style scoped>\n",
       "    .dataframe tbody tr th:only-of-type {\n",
       "        vertical-align: middle;\n",
       "    }\n",
       "\n",
       "    .dataframe tbody tr th {\n",
       "        vertical-align: top;\n",
       "    }\n",
       "\n",
       "    .dataframe thead th {\n",
       "        text-align: right;\n",
       "    }\n",
       "</style>\n",
       "<table border=\"1\" class=\"dataframe\">\n",
       "  <thead>\n",
       "    <tr style=\"text-align: right;\">\n",
       "      <th></th>\n",
       "      <th>0</th>\n",
       "      <th>1</th>\n",
       "      <th>2</th>\n",
       "      <th>3</th>\n",
       "      <th>4</th>\n",
       "    </tr>\n",
       "  </thead>\n",
       "  <tbody>\n",
       "    <tr>\n",
       "      <th>movieId</th>\n",
       "      <td>16</td>\n",
       "      <td>11</td>\n",
       "      <td>7</td>\n",
       "      <td>8</td>\n",
       "      <td>1</td>\n",
       "    </tr>\n",
       "    <tr>\n",
       "      <th>id</th>\n",
       "      <td>524</td>\n",
       "      <td>9087</td>\n",
       "      <td>11860</td>\n",
       "      <td>45325</td>\n",
       "      <td>862</td>\n",
       "    </tr>\n",
       "    <tr>\n",
       "      <th>title</th>\n",
       "      <td>Casino</td>\n",
       "      <td>The American President</td>\n",
       "      <td>Sabrina</td>\n",
       "      <td>Tom and Huck</td>\n",
       "      <td>Toy Story</td>\n",
       "    </tr>\n",
       "    <tr>\n",
       "      <th>genres</th>\n",
       "      <td>[{'id': 80, 'name': 'Crime'}, {'id': 18, 'name...</td>\n",
       "      <td>[{'id': 35, 'name': 'Comedy'}, {'id': 18, 'nam...</td>\n",
       "      <td>[{'id': 10749, 'name': 'Romance'}, {'id': 18, ...</td>\n",
       "      <td>[{'id': 10751, 'name': 'Family'}, {'id': 28, '...</td>\n",
       "      <td>[{'id': 16, 'name': 'Animation'}, {'id': 12, '...</td>\n",
       "    </tr>\n",
       "    <tr>\n",
       "      <th>overview</th>\n",
       "      <td>In early-1970s Las Vegas, Sam \"Ace\" Rothstein ...</td>\n",
       "      <td>Widowed U.S. president Andrew Shepherd, one of...</td>\n",
       "      <td>Sabrina Fairchild, a chauffeur's daughter, gre...</td>\n",
       "      <td>A mischievous young boy, Tom Sawyer, witnesses...</td>\n",
       "      <td>Led by Woody, Andy's toys live happily in his ...</td>\n",
       "    </tr>\n",
       "    <tr>\n",
       "      <th>release_date</th>\n",
       "      <td>1995-11-22</td>\n",
       "      <td>1995-11-17</td>\n",
       "      <td>1995-12-15</td>\n",
       "      <td>1995-12-22</td>\n",
       "      <td>1995-11-22</td>\n",
       "    </tr>\n",
       "    <tr>\n",
       "      <th>popularity</th>\n",
       "      <td>6.6361</td>\n",
       "      <td>1.6287</td>\n",
       "      <td>2.7156</td>\n",
       "      <td>0.7317</td>\n",
       "      <td>22.3485</td>\n",
       "    </tr>\n",
       "    <tr>\n",
       "      <th>runtime</th>\n",
       "      <td>179</td>\n",
       "      <td>114</td>\n",
       "      <td>127</td>\n",
       "      <td>97</td>\n",
       "      <td>81</td>\n",
       "    </tr>\n",
       "    <tr>\n",
       "      <th>status</th>\n",
       "      <td>Released</td>\n",
       "      <td>Released</td>\n",
       "      <td>Released</td>\n",
       "      <td>Released</td>\n",
       "      <td>Released</td>\n",
       "    </tr>\n",
       "    <tr>\n",
       "      <th>tagline</th>\n",
       "      <td>No one stays at the top forever.</td>\n",
       "      <td>Why can't the most powerful man in the world h...</td>\n",
       "      <td>You are cordially invited to the most surprisi...</td>\n",
       "      <td>A lot of kids get into trouble. These two inve...</td>\n",
       "      <td>Hang on for the comedy that goes to infinity a...</td>\n",
       "    </tr>\n",
       "    <tr>\n",
       "      <th>vote_average</th>\n",
       "      <td>7.997</td>\n",
       "      <td>6.5</td>\n",
       "      <td>6.204</td>\n",
       "      <td>5.3</td>\n",
       "      <td>7.968</td>\n",
       "    </tr>\n",
       "    <tr>\n",
       "      <th>vote_count</th>\n",
       "      <td>5994</td>\n",
       "      <td>732</td>\n",
       "      <td>641</td>\n",
       "      <td>191</td>\n",
       "      <td>18714</td>\n",
       "    </tr>\n",
       "    <tr>\n",
       "      <th>poster_path</th>\n",
       "      <td>/gziIkUSnYuj9ChCi8qOu2ZunpSC.jpg</td>\n",
       "      <td>/yObOAYFIHXHkFPQ3jhgkN2ezaD.jpg</td>\n",
       "      <td>/i8PbLJDPU7vCwwscWD625oHbJy.jpg</td>\n",
       "      <td>/bMY31ikEOIPOHqQwhPhII8UVBln.jpg</td>\n",
       "      <td>/uXDfjJbdP4ijW5hWSBrPrlKpxab.jpg</td>\n",
       "    </tr>\n",
       "    <tr>\n",
       "      <th>backdrop_path</th>\n",
       "      <td>/iZGiMD0p1M2AOmzKknFo5bkuz94.jpg</td>\n",
       "      <td>/62BnXyJtVEq4WKNSpnPG7QPYYDI.jpg</td>\n",
       "      <td>/oMGV48EGhsNavC1PL8HMeWs5Udq.jpg</td>\n",
       "      <td>/jP8lHNHD89xaRPfAdyz5KEVYcSb.jpg</td>\n",
       "      <td>/3Rfvhy1Nl6sSGJwyjb0QiZzZYlB.jpg</td>\n",
       "    </tr>\n",
       "  </tbody>\n",
       "</table>\n",
       "</div>"
      ],
      "text/plain": [
       "                                                               0  \\\n",
       "movieId                                                       16   \n",
       "id                                                           524   \n",
       "title                                                     Casino   \n",
       "genres         [{'id': 80, 'name': 'Crime'}, {'id': 18, 'name...   \n",
       "overview       In early-1970s Las Vegas, Sam \"Ace\" Rothstein ...   \n",
       "release_date                                          1995-11-22   \n",
       "popularity                                                6.6361   \n",
       "runtime                                                      179   \n",
       "status                                                  Released   \n",
       "tagline                         No one stays at the top forever.   \n",
       "vote_average                                               7.997   \n",
       "vote_count                                                  5994   \n",
       "poster_path                     /gziIkUSnYuj9ChCi8qOu2ZunpSC.jpg   \n",
       "backdrop_path                   /iZGiMD0p1M2AOmzKknFo5bkuz94.jpg   \n",
       "\n",
       "                                                               1  \\\n",
       "movieId                                                       11   \n",
       "id                                                          9087   \n",
       "title                                     The American President   \n",
       "genres         [{'id': 35, 'name': 'Comedy'}, {'id': 18, 'nam...   \n",
       "overview       Widowed U.S. president Andrew Shepherd, one of...   \n",
       "release_date                                          1995-11-17   \n",
       "popularity                                                1.6287   \n",
       "runtime                                                      114   \n",
       "status                                                  Released   \n",
       "tagline        Why can't the most powerful man in the world h...   \n",
       "vote_average                                                 6.5   \n",
       "vote_count                                                   732   \n",
       "poster_path                      /yObOAYFIHXHkFPQ3jhgkN2ezaD.jpg   \n",
       "backdrop_path                   /62BnXyJtVEq4WKNSpnPG7QPYYDI.jpg   \n",
       "\n",
       "                                                               2  \\\n",
       "movieId                                                        7   \n",
       "id                                                         11860   \n",
       "title                                                    Sabrina   \n",
       "genres         [{'id': 10749, 'name': 'Romance'}, {'id': 18, ...   \n",
       "overview       Sabrina Fairchild, a chauffeur's daughter, gre...   \n",
       "release_date                                          1995-12-15   \n",
       "popularity                                                2.7156   \n",
       "runtime                                                      127   \n",
       "status                                                  Released   \n",
       "tagline        You are cordially invited to the most surprisi...   \n",
       "vote_average                                               6.204   \n",
       "vote_count                                                   641   \n",
       "poster_path                      /i8PbLJDPU7vCwwscWD625oHbJy.jpg   \n",
       "backdrop_path                   /oMGV48EGhsNavC1PL8HMeWs5Udq.jpg   \n",
       "\n",
       "                                                               3  \\\n",
       "movieId                                                        8   \n",
       "id                                                         45325   \n",
       "title                                               Tom and Huck   \n",
       "genres         [{'id': 10751, 'name': 'Family'}, {'id': 28, '...   \n",
       "overview       A mischievous young boy, Tom Sawyer, witnesses...   \n",
       "release_date                                          1995-12-22   \n",
       "popularity                                                0.7317   \n",
       "runtime                                                       97   \n",
       "status                                                  Released   \n",
       "tagline        A lot of kids get into trouble. These two inve...   \n",
       "vote_average                                                 5.3   \n",
       "vote_count                                                   191   \n",
       "poster_path                     /bMY31ikEOIPOHqQwhPhII8UVBln.jpg   \n",
       "backdrop_path                   /jP8lHNHD89xaRPfAdyz5KEVYcSb.jpg   \n",
       "\n",
       "                                                               4  \n",
       "movieId                                                        1  \n",
       "id                                                           862  \n",
       "title                                                  Toy Story  \n",
       "genres         [{'id': 16, 'name': 'Animation'}, {'id': 12, '...  \n",
       "overview       Led by Woody, Andy's toys live happily in his ...  \n",
       "release_date                                          1995-11-22  \n",
       "popularity                                               22.3485  \n",
       "runtime                                                       81  \n",
       "status                                                  Released  \n",
       "tagline        Hang on for the comedy that goes to infinity a...  \n",
       "vote_average                                               7.968  \n",
       "vote_count                                                 18714  \n",
       "poster_path                     /uXDfjJbdP4ijW5hWSBrPrlKpxab.jpg  \n",
       "backdrop_path                   /3Rfvhy1Nl6sSGJwyjb0QiZzZYlB.jpg  "
      ]
     },
     "execution_count": 4,
     "metadata": {},
     "output_type": "execute_result"
    }
   ],
   "source": [
    "# Select only the relevant columns\n",
    "mdf = mdf[['movieId', 'id', 'title', 'genres', 'overview', 'release_date', \n",
    "           'popularity', 'runtime', 'status', 'tagline',  'vote_average', \n",
    "           'vote_count', 'poster_path', 'backdrop_path']]\n",
    "\n",
    "mdf.head().transpose()"
   ]
  },
  {
   "cell_type": "code",
   "execution_count": 5,
   "metadata": {},
   "outputs": [
    {
     "data": {
      "text/plain": [
       "movieId            int64\n",
       "id                 int64\n",
       "title             object\n",
       "genres            object\n",
       "overview          object\n",
       "release_date      object\n",
       "popularity       float64\n",
       "runtime            int64\n",
       "status            object\n",
       "tagline           object\n",
       "vote_average     float64\n",
       "vote_count         int64\n",
       "poster_path       object\n",
       "backdrop_path     object\n",
       "dtype: object"
      ]
     },
     "execution_count": 5,
     "metadata": {},
     "output_type": "execute_result"
    }
   ],
   "source": [
    "mdf.dtypes"
   ]
  },
  {
   "cell_type": "markdown",
   "metadata": {},
   "source": [
    "It seems that all the features are in its correct data type"
   ]
  },
  {
   "cell_type": "code",
   "execution_count": 6,
   "metadata": {},
   "outputs": [
    {
     "name": "stdout",
     "output_type": "stream",
     "text": [
      "The original movies dataset has 86,351 movies\n"
     ]
    }
   ],
   "source": [
    "print(f'The original movies dataset has {mdf.shape[0]:,} movies')"
   ]
  },
  {
   "cell_type": "markdown",
   "metadata": {},
   "source": [
    "## Cleaning and Preprocessing  the Dataset\n",
    "\n",
    "We will clean the dataset by removing rows that lack important information. Specifically, we will remove movies that do not have a `title`, `overview`, or `genre`, as these are essential for identifying movies and calculating similarities in a content-based recommender system. Without a title, we cannot determine which movie it is, and without an overview or genre, we cannot derive meaningful movie comparisons.\n",
    "\n",
    "Also we will transform the data types of certain columns to ensure they are properly formatted for further analysis. Specifically, we will extract and convert the genres, collection (if available), and production companies, as these columns are currently stored as stringified dictionaries.\n"
   ]
  },
  {
   "cell_type": "code",
   "execution_count": 7,
   "metadata": {},
   "outputs": [],
   "source": [
    "# Drop films without title or genre\n",
    "mdf.dropna(subset='title', inplace=True)\n",
    "mdf.dropna(subset='overview', inplace=True)"
   ]
  },
  {
   "cell_type": "code",
   "execution_count": 8,
   "metadata": {},
   "outputs": [],
   "source": [
    "def extract_dict(s):\n",
    "    try:\n",
    "        return ast.literal_eval(s)\n",
    "    except (ValueError, SyntaxError):\n",
    "        return np.nan"
   ]
  },
  {
   "cell_type": "code",
   "execution_count": 9,
   "metadata": {},
   "outputs": [
    {
     "data": {
      "text/html": [
       "<div>\n",
       "<style scoped>\n",
       "    .dataframe tbody tr th:only-of-type {\n",
       "        vertical-align: middle;\n",
       "    }\n",
       "\n",
       "    .dataframe tbody tr th {\n",
       "        vertical-align: top;\n",
       "    }\n",
       "\n",
       "    .dataframe thead th {\n",
       "        text-align: right;\n",
       "    }\n",
       "</style>\n",
       "<table border=\"1\" class=\"dataframe\">\n",
       "  <thead>\n",
       "    <tr style=\"text-align: right;\">\n",
       "      <th></th>\n",
       "      <th>0</th>\n",
       "      <th>1</th>\n",
       "      <th>2</th>\n",
       "      <th>3</th>\n",
       "      <th>4</th>\n",
       "    </tr>\n",
       "  </thead>\n",
       "  <tbody>\n",
       "    <tr>\n",
       "      <th>movieId</th>\n",
       "      <td>16</td>\n",
       "      <td>11</td>\n",
       "      <td>7</td>\n",
       "      <td>8</td>\n",
       "      <td>1</td>\n",
       "    </tr>\n",
       "    <tr>\n",
       "      <th>id</th>\n",
       "      <td>524</td>\n",
       "      <td>9087</td>\n",
       "      <td>11860</td>\n",
       "      <td>45325</td>\n",
       "      <td>862</td>\n",
       "    </tr>\n",
       "    <tr>\n",
       "      <th>title</th>\n",
       "      <td>Casino</td>\n",
       "      <td>The American President</td>\n",
       "      <td>Sabrina</td>\n",
       "      <td>Tom and Huck</td>\n",
       "      <td>Toy Story</td>\n",
       "    </tr>\n",
       "    <tr>\n",
       "      <th>genres</th>\n",
       "      <td>[Crime, Drama]</td>\n",
       "      <td>[Comedy, Drama, Romance]</td>\n",
       "      <td>[Romance, Drama]</td>\n",
       "      <td>[Family, Action, Adventure, Drama]</td>\n",
       "      <td>[Animation, Adventure, Family, Comedy]</td>\n",
       "    </tr>\n",
       "    <tr>\n",
       "      <th>overview</th>\n",
       "      <td>In early-1970s Las Vegas, Sam \"Ace\" Rothstein ...</td>\n",
       "      <td>Widowed U.S. president Andrew Shepherd, one of...</td>\n",
       "      <td>Sabrina Fairchild, a chauffeur's daughter, gre...</td>\n",
       "      <td>A mischievous young boy, Tom Sawyer, witnesses...</td>\n",
       "      <td>Led by Woody, Andy's toys live happily in his ...</td>\n",
       "    </tr>\n",
       "    <tr>\n",
       "      <th>release_date</th>\n",
       "      <td>1995-11-22</td>\n",
       "      <td>1995-11-17</td>\n",
       "      <td>1995-12-15</td>\n",
       "      <td>1995-12-22</td>\n",
       "      <td>1995-11-22</td>\n",
       "    </tr>\n",
       "    <tr>\n",
       "      <th>popularity</th>\n",
       "      <td>6.6361</td>\n",
       "      <td>1.6287</td>\n",
       "      <td>2.7156</td>\n",
       "      <td>0.7317</td>\n",
       "      <td>22.3485</td>\n",
       "    </tr>\n",
       "    <tr>\n",
       "      <th>runtime</th>\n",
       "      <td>179</td>\n",
       "      <td>114</td>\n",
       "      <td>127</td>\n",
       "      <td>97</td>\n",
       "      <td>81</td>\n",
       "    </tr>\n",
       "    <tr>\n",
       "      <th>status</th>\n",
       "      <td>Released</td>\n",
       "      <td>Released</td>\n",
       "      <td>Released</td>\n",
       "      <td>Released</td>\n",
       "      <td>Released</td>\n",
       "    </tr>\n",
       "    <tr>\n",
       "      <th>tagline</th>\n",
       "      <td>No one stays at the top forever.</td>\n",
       "      <td>Why can't the most powerful man in the world h...</td>\n",
       "      <td>You are cordially invited to the most surprisi...</td>\n",
       "      <td>A lot of kids get into trouble. These two inve...</td>\n",
       "      <td>Hang on for the comedy that goes to infinity a...</td>\n",
       "    </tr>\n",
       "    <tr>\n",
       "      <th>vote_average</th>\n",
       "      <td>7.997</td>\n",
       "      <td>6.5</td>\n",
       "      <td>6.204</td>\n",
       "      <td>5.3</td>\n",
       "      <td>7.968</td>\n",
       "    </tr>\n",
       "    <tr>\n",
       "      <th>vote_count</th>\n",
       "      <td>5994</td>\n",
       "      <td>732</td>\n",
       "      <td>641</td>\n",
       "      <td>191</td>\n",
       "      <td>18714</td>\n",
       "    </tr>\n",
       "    <tr>\n",
       "      <th>poster_path</th>\n",
       "      <td>/gziIkUSnYuj9ChCi8qOu2ZunpSC.jpg</td>\n",
       "      <td>/yObOAYFIHXHkFPQ3jhgkN2ezaD.jpg</td>\n",
       "      <td>/i8PbLJDPU7vCwwscWD625oHbJy.jpg</td>\n",
       "      <td>/bMY31ikEOIPOHqQwhPhII8UVBln.jpg</td>\n",
       "      <td>/uXDfjJbdP4ijW5hWSBrPrlKpxab.jpg</td>\n",
       "    </tr>\n",
       "    <tr>\n",
       "      <th>backdrop_path</th>\n",
       "      <td>/iZGiMD0p1M2AOmzKknFo5bkuz94.jpg</td>\n",
       "      <td>/62BnXyJtVEq4WKNSpnPG7QPYYDI.jpg</td>\n",
       "      <td>/oMGV48EGhsNavC1PL8HMeWs5Udq.jpg</td>\n",
       "      <td>/jP8lHNHD89xaRPfAdyz5KEVYcSb.jpg</td>\n",
       "      <td>/3Rfvhy1Nl6sSGJwyjb0QiZzZYlB.jpg</td>\n",
       "    </tr>\n",
       "  </tbody>\n",
       "</table>\n",
       "</div>"
      ],
      "text/plain": [
       "                                                               0  \\\n",
       "movieId                                                       16   \n",
       "id                                                           524   \n",
       "title                                                     Casino   \n",
       "genres                                            [Crime, Drama]   \n",
       "overview       In early-1970s Las Vegas, Sam \"Ace\" Rothstein ...   \n",
       "release_date                                          1995-11-22   \n",
       "popularity                                                6.6361   \n",
       "runtime                                                      179   \n",
       "status                                                  Released   \n",
       "tagline                         No one stays at the top forever.   \n",
       "vote_average                                               7.997   \n",
       "vote_count                                                  5994   \n",
       "poster_path                     /gziIkUSnYuj9ChCi8qOu2ZunpSC.jpg   \n",
       "backdrop_path                   /iZGiMD0p1M2AOmzKknFo5bkuz94.jpg   \n",
       "\n",
       "                                                               1  \\\n",
       "movieId                                                       11   \n",
       "id                                                          9087   \n",
       "title                                     The American President   \n",
       "genres                                  [Comedy, Drama, Romance]   \n",
       "overview       Widowed U.S. president Andrew Shepherd, one of...   \n",
       "release_date                                          1995-11-17   \n",
       "popularity                                                1.6287   \n",
       "runtime                                                      114   \n",
       "status                                                  Released   \n",
       "tagline        Why can't the most powerful man in the world h...   \n",
       "vote_average                                                 6.5   \n",
       "vote_count                                                   732   \n",
       "poster_path                      /yObOAYFIHXHkFPQ3jhgkN2ezaD.jpg   \n",
       "backdrop_path                   /62BnXyJtVEq4WKNSpnPG7QPYYDI.jpg   \n",
       "\n",
       "                                                               2  \\\n",
       "movieId                                                        7   \n",
       "id                                                         11860   \n",
       "title                                                    Sabrina   \n",
       "genres                                          [Romance, Drama]   \n",
       "overview       Sabrina Fairchild, a chauffeur's daughter, gre...   \n",
       "release_date                                          1995-12-15   \n",
       "popularity                                                2.7156   \n",
       "runtime                                                      127   \n",
       "status                                                  Released   \n",
       "tagline        You are cordially invited to the most surprisi...   \n",
       "vote_average                                               6.204   \n",
       "vote_count                                                   641   \n",
       "poster_path                      /i8PbLJDPU7vCwwscWD625oHbJy.jpg   \n",
       "backdrop_path                   /oMGV48EGhsNavC1PL8HMeWs5Udq.jpg   \n",
       "\n",
       "                                                               3  \\\n",
       "movieId                                                        8   \n",
       "id                                                         45325   \n",
       "title                                               Tom and Huck   \n",
       "genres                        [Family, Action, Adventure, Drama]   \n",
       "overview       A mischievous young boy, Tom Sawyer, witnesses...   \n",
       "release_date                                          1995-12-22   \n",
       "popularity                                                0.7317   \n",
       "runtime                                                       97   \n",
       "status                                                  Released   \n",
       "tagline        A lot of kids get into trouble. These two inve...   \n",
       "vote_average                                                 5.3   \n",
       "vote_count                                                   191   \n",
       "poster_path                     /bMY31ikEOIPOHqQwhPhII8UVBln.jpg   \n",
       "backdrop_path                   /jP8lHNHD89xaRPfAdyz5KEVYcSb.jpg   \n",
       "\n",
       "                                                               4  \n",
       "movieId                                                        1  \n",
       "id                                                           862  \n",
       "title                                                  Toy Story  \n",
       "genres                    [Animation, Adventure, Family, Comedy]  \n",
       "overview       Led by Woody, Andy's toys live happily in his ...  \n",
       "release_date                                          1995-11-22  \n",
       "popularity                                               22.3485  \n",
       "runtime                                                       81  \n",
       "status                                                  Released  \n",
       "tagline        Hang on for the comedy that goes to infinity a...  \n",
       "vote_average                                               7.968  \n",
       "vote_count                                                 18714  \n",
       "poster_path                     /uXDfjJbdP4ijW5hWSBrPrlKpxab.jpg  \n",
       "backdrop_path                   /3Rfvhy1Nl6sSGJwyjb0QiZzZYlB.jpg  "
      ]
     },
     "execution_count": 9,
     "metadata": {},
     "output_type": "execute_result"
    }
   ],
   "source": [
    "# Extract the genres\n",
    "mdf['genres'] =  mdf['genres'].apply(lambda x: ast.literal_eval(x)).apply(lambda x: [item['name'] for item in x])\n",
    "mdf.head().transpose()"
   ]
  },
  {
   "cell_type": "markdown",
   "metadata": {},
   "source": [
    "Delete the films of which we do not have their genres"
   ]
  },
  {
   "cell_type": "code",
   "execution_count": 10,
   "metadata": {},
   "outputs": [],
   "source": [
    "mdf['genres'] = mdf['genres'].apply(lambda x: np.nan if not x else x)\n",
    "mdf.dropna(subset='genres', inplace=True)"
   ]
  },
  {
   "cell_type": "markdown",
   "metadata": {},
   "source": [
    "#### Poster Path\n",
    "\n",
    "The poster path will be useful to display the poster of the movie in the user interface, as well as the backdrop poster; so let's check how many posters are missing"
   ]
  },
  {
   "cell_type": "code",
   "execution_count": 11,
   "metadata": {},
   "outputs": [
    {
     "data": {
      "text/plain": [
       "1111"
      ]
     },
     "execution_count": 11,
     "metadata": {},
     "output_type": "execute_result"
    }
   ],
   "source": [
    "mdf['poster_path'].isnull().sum()"
   ]
  },
  {
   "cell_type": "code",
   "execution_count": 12,
   "metadata": {},
   "outputs": [
    {
     "data": {
      "text/plain": [
       "10890"
      ]
     },
     "execution_count": 12,
     "metadata": {},
     "output_type": "execute_result"
    }
   ],
   "source": [
    "mdf['backdrop_path'].isnull().sum()"
   ]
  },
  {
   "cell_type": "code",
   "execution_count": 13,
   "metadata": {},
   "outputs": [
    {
     "data": {
      "text/html": [
       "<div>\n",
       "<style scoped>\n",
       "    .dataframe tbody tr th:only-of-type {\n",
       "        vertical-align: middle;\n",
       "    }\n",
       "\n",
       "    .dataframe tbody tr th {\n",
       "        vertical-align: top;\n",
       "    }\n",
       "\n",
       "    .dataframe thead th {\n",
       "        text-align: right;\n",
       "    }\n",
       "</style>\n",
       "<table border=\"1\" class=\"dataframe\">\n",
       "  <thead>\n",
       "    <tr style=\"text-align: right;\">\n",
       "      <th></th>\n",
       "      <th>title</th>\n",
       "      <th>popularity</th>\n",
       "    </tr>\n",
       "  </thead>\n",
       "  <tbody>\n",
       "    <tr>\n",
       "      <th>32843</th>\n",
       "      <td>Carlos Spills the Beans</td>\n",
       "      <td>1.7193</td>\n",
       "    </tr>\n",
       "    <tr>\n",
       "      <th>22353</th>\n",
       "      <td>Hard Sun</td>\n",
       "      <td>1.5490</td>\n",
       "    </tr>\n",
       "    <tr>\n",
       "      <th>22395</th>\n",
       "      <td>Serial Killer Culture</td>\n",
       "      <td>1.2484</td>\n",
       "    </tr>\n",
       "    <tr>\n",
       "      <th>31976</th>\n",
       "      <td>Targeting</td>\n",
       "      <td>1.1432</td>\n",
       "    </tr>\n",
       "    <tr>\n",
       "      <th>44121</th>\n",
       "      <td>Trailer Park Boys: Swearnet Live</td>\n",
       "      <td>1.0292</td>\n",
       "    </tr>\n",
       "  </tbody>\n",
       "</table>\n",
       "</div>"
      ],
      "text/plain": [
       "                                  title  popularity\n",
       "32843           Carlos Spills the Beans      1.7193\n",
       "22353                          Hard Sun      1.5490\n",
       "22395             Serial Killer Culture      1.2484\n",
       "31976                         Targeting      1.1432\n",
       "44121  Trailer Park Boys: Swearnet Live      1.0292"
      ]
     },
     "execution_count": 13,
     "metadata": {},
     "output_type": "execute_result"
    }
   ],
   "source": [
    "mdf[mdf['poster_path'].isnull()].sort_values(by='popularity', ascending=False)[['title', 'popularity']].head()"
   ]
  },
  {
   "cell_type": "markdown",
   "metadata": {},
   "source": [
    "The movies without a poster path appear to be quite unpopular. Since the poster path is essential for displaying the film in the final UI, we will remove the films that lack a poster path. On the other hand almost 11,000 of the movies do not have a backdrop path, so we will leave like this the dataset."
   ]
  },
  {
   "cell_type": "code",
   "execution_count": 14,
   "metadata": {},
   "outputs": [],
   "source": [
    "mdf.dropna(subset='poster_path', inplace=True)"
   ]
  },
  {
   "cell_type": "code",
   "execution_count": 15,
   "metadata": {},
   "outputs": [
    {
     "name": "stdout",
     "output_type": "stream",
     "text": [
      "After doing some cleaning we are left with 83,663 movies\n"
     ]
    }
   ],
   "source": [
    "print(f'After doing some cleaning we are left with {mdf.shape[0]:,} movies')"
   ]
  },
  {
   "cell_type": "markdown",
   "metadata": {},
   "source": [
    "## Filtering\n",
    "\n",
    "To enhance the performance of our recommender system, we will filter and select only relevant and current movies for the following reasons:\n",
    "\n",
    "- **Relevance to Modern Audiences:** Older movies may not resonate with today’s viewers. By focusing on more recent or popular titles, we ensure that recommendations remain aligned with current trends and user preferences.\n",
    "- **Avoiding Data Sparsity:** Older movies typically have fewer interactions and ratings, leading to data sparsity. Since recommender systems rely on user interactions, movies with limited data may not generate meaningful recommendations.\n",
    "- **Reducing Complexity:** A smaller, more focused dataset of relevant movies reduces model complexity. Working with fewer, more relevant movies means fewer features to process, resulting in faster computation and more efficient learning.\n",
    "- **Improving User-Item Interactions:** Users are generally more engaged with recent or trending movies. Filtering out older titles helps focus the system on movies with more active user interactions, thereby enhancing the model’s accuracy.\n",
    "\n",
    "Therefore, older movies may not align well with current user behavior, making them less useful for the recommender system."
   ]
  },
  {
   "cell_type": "markdown",
   "metadata": {},
   "source": [
    "### Votes\n",
    "\n",
    "We are going to filter the movies that have more than 199 votes, since those movies without fewer votes might not be relevant."
   ]
  },
  {
   "cell_type": "code",
   "execution_count": 16,
   "metadata": {},
   "outputs": [
    {
     "data": {
      "text/plain": [
       "(12420, 14)"
      ]
     },
     "execution_count": 16,
     "metadata": {},
     "output_type": "execute_result"
    }
   ],
   "source": [
    "mdf['vote_count'] = mdf['vote_count'].astype('int')\n",
    "mdf = mdf[mdf['vote_count'] > 200]\n",
    "mdf.shape"
   ]
  },
  {
   "cell_type": "markdown",
   "metadata": {},
   "source": [
    "This was an important filter, since we are only left with approximately 12,500 films"
   ]
  },
  {
   "cell_type": "markdown",
   "metadata": {},
   "source": [
    "### Year & Rating\n",
    "\n",
    "We will extract the release year of the films and select movies released in 1995 or later. At the same time, we will filter out movies with a rating below 7.5. Since the year filtering is applied first, we might lose highly rated movies released before 1995 that are still very popular."
   ]
  },
  {
   "cell_type": "code",
   "execution_count": 17,
   "metadata": {},
   "outputs": [],
   "source": [
    "mdf['release_date'] = pd.to_datetime(mdf['release_date'], errors='coerce')\n",
    "mdf['year'] = mdf['release_date'].dt.year.fillna(1989).astype('int')\n",
    "# Drop the release date\n",
    "mdf = mdf.drop(columns=['release_date']).reset_index(drop=True)"
   ]
  },
  {
   "cell_type": "code",
   "execution_count": 18,
   "metadata": {},
   "outputs": [
    {
     "data": {
      "text/html": [
       "<div>\n",
       "<style scoped>\n",
       "    .dataframe tbody tr th:only-of-type {\n",
       "        vertical-align: middle;\n",
       "    }\n",
       "\n",
       "    .dataframe tbody tr th {\n",
       "        vertical-align: top;\n",
       "    }\n",
       "\n",
       "    .dataframe thead th {\n",
       "        text-align: right;\n",
       "    }\n",
       "</style>\n",
       "<table border=\"1\" class=\"dataframe\">\n",
       "  <thead>\n",
       "    <tr style=\"text-align: right;\">\n",
       "      <th></th>\n",
       "      <th>movieId</th>\n",
       "      <th>id</th>\n",
       "      <th>title</th>\n",
       "      <th>genres</th>\n",
       "      <th>overview</th>\n",
       "      <th>popularity</th>\n",
       "      <th>runtime</th>\n",
       "      <th>status</th>\n",
       "      <th>tagline</th>\n",
       "      <th>vote_average</th>\n",
       "      <th>vote_count</th>\n",
       "      <th>poster_path</th>\n",
       "      <th>backdrop_path</th>\n",
       "      <th>year</th>\n",
       "    </tr>\n",
       "  </thead>\n",
       "  <tbody>\n",
       "    <tr>\n",
       "      <th>0</th>\n",
       "      <td>16</td>\n",
       "      <td>524</td>\n",
       "      <td>Casino</td>\n",
       "      <td>[Crime, Drama]</td>\n",
       "      <td>In early-1970s Las Vegas, Sam \"Ace\" Rothstein ...</td>\n",
       "      <td>6.6361</td>\n",
       "      <td>179</td>\n",
       "      <td>Released</td>\n",
       "      <td>No one stays at the top forever.</td>\n",
       "      <td>7.997</td>\n",
       "      <td>5994</td>\n",
       "      <td>/gziIkUSnYuj9ChCi8qOu2ZunpSC.jpg</td>\n",
       "      <td>/iZGiMD0p1M2AOmzKknFo5bkuz94.jpg</td>\n",
       "      <td>1995</td>\n",
       "    </tr>\n",
       "    <tr>\n",
       "      <th>1</th>\n",
       "      <td>11</td>\n",
       "      <td>9087</td>\n",
       "      <td>The American President</td>\n",
       "      <td>[Comedy, Drama, Romance]</td>\n",
       "      <td>Widowed U.S. president Andrew Shepherd, one of...</td>\n",
       "      <td>1.6287</td>\n",
       "      <td>114</td>\n",
       "      <td>Released</td>\n",
       "      <td>Why can't the most powerful man in the world h...</td>\n",
       "      <td>6.500</td>\n",
       "      <td>732</td>\n",
       "      <td>/yObOAYFIHXHkFPQ3jhgkN2ezaD.jpg</td>\n",
       "      <td>/62BnXyJtVEq4WKNSpnPG7QPYYDI.jpg</td>\n",
       "      <td>1995</td>\n",
       "    </tr>\n",
       "    <tr>\n",
       "      <th>2</th>\n",
       "      <td>7</td>\n",
       "      <td>11860</td>\n",
       "      <td>Sabrina</td>\n",
       "      <td>[Romance, Drama]</td>\n",
       "      <td>Sabrina Fairchild, a chauffeur's daughter, gre...</td>\n",
       "      <td>2.7156</td>\n",
       "      <td>127</td>\n",
       "      <td>Released</td>\n",
       "      <td>You are cordially invited to the most surprisi...</td>\n",
       "      <td>6.204</td>\n",
       "      <td>641</td>\n",
       "      <td>/i8PbLJDPU7vCwwscWD625oHbJy.jpg</td>\n",
       "      <td>/oMGV48EGhsNavC1PL8HMeWs5Udq.jpg</td>\n",
       "      <td>1995</td>\n",
       "    </tr>\n",
       "    <tr>\n",
       "      <th>3</th>\n",
       "      <td>1</td>\n",
       "      <td>862</td>\n",
       "      <td>Toy Story</td>\n",
       "      <td>[Animation, Adventure, Family, Comedy]</td>\n",
       "      <td>Led by Woody, Andy's toys live happily in his ...</td>\n",
       "      <td>22.3485</td>\n",
       "      <td>81</td>\n",
       "      <td>Released</td>\n",
       "      <td>Hang on for the comedy that goes to infinity a...</td>\n",
       "      <td>7.968</td>\n",
       "      <td>18714</td>\n",
       "      <td>/uXDfjJbdP4ijW5hWSBrPrlKpxab.jpg</td>\n",
       "      <td>/3Rfvhy1Nl6sSGJwyjb0QiZzZYlB.jpg</td>\n",
       "      <td>1995</td>\n",
       "    </tr>\n",
       "    <tr>\n",
       "      <th>4</th>\n",
       "      <td>12</td>\n",
       "      <td>12110</td>\n",
       "      <td>Dracula: Dead and Loving It</td>\n",
       "      <td>[Comedy, Horror]</td>\n",
       "      <td>When a lawyer shows up at the vampire's doorst...</td>\n",
       "      <td>2.0197</td>\n",
       "      <td>88</td>\n",
       "      <td>Released</td>\n",
       "      <td>You'll laugh until you die...then you'll rise ...</td>\n",
       "      <td>6.100</td>\n",
       "      <td>997</td>\n",
       "      <td>/fwdXQU3Dbs2CMHu8K87bAxlWV0t.jpg</td>\n",
       "      <td>/47HK3UNlIfLcS2C2pDIznSyUTsI.jpg</td>\n",
       "      <td>1995</td>\n",
       "    </tr>\n",
       "  </tbody>\n",
       "</table>\n",
       "</div>"
      ],
      "text/plain": [
       "   movieId     id                        title  \\\n",
       "0       16    524                       Casino   \n",
       "1       11   9087       The American President   \n",
       "2        7  11860                      Sabrina   \n",
       "3        1    862                    Toy Story   \n",
       "4       12  12110  Dracula: Dead and Loving It   \n",
       "\n",
       "                                   genres  \\\n",
       "0                          [Crime, Drama]   \n",
       "1                [Comedy, Drama, Romance]   \n",
       "2                        [Romance, Drama]   \n",
       "3  [Animation, Adventure, Family, Comedy]   \n",
       "4                        [Comedy, Horror]   \n",
       "\n",
       "                                            overview  popularity  runtime  \\\n",
       "0  In early-1970s Las Vegas, Sam \"Ace\" Rothstein ...      6.6361      179   \n",
       "1  Widowed U.S. president Andrew Shepherd, one of...      1.6287      114   \n",
       "2  Sabrina Fairchild, a chauffeur's daughter, gre...      2.7156      127   \n",
       "3  Led by Woody, Andy's toys live happily in his ...     22.3485       81   \n",
       "4  When a lawyer shows up at the vampire's doorst...      2.0197       88   \n",
       "\n",
       "     status                                            tagline  vote_average  \\\n",
       "0  Released                   No one stays at the top forever.         7.997   \n",
       "1  Released  Why can't the most powerful man in the world h...         6.500   \n",
       "2  Released  You are cordially invited to the most surprisi...         6.204   \n",
       "3  Released  Hang on for the comedy that goes to infinity a...         7.968   \n",
       "4  Released  You'll laugh until you die...then you'll rise ...         6.100   \n",
       "\n",
       "   vote_count                       poster_path  \\\n",
       "0        5994  /gziIkUSnYuj9ChCi8qOu2ZunpSC.jpg   \n",
       "1         732   /yObOAYFIHXHkFPQ3jhgkN2ezaD.jpg   \n",
       "2         641   /i8PbLJDPU7vCwwscWD625oHbJy.jpg   \n",
       "3       18714  /uXDfjJbdP4ijW5hWSBrPrlKpxab.jpg   \n",
       "4         997  /fwdXQU3Dbs2CMHu8K87bAxlWV0t.jpg   \n",
       "\n",
       "                      backdrop_path  year  \n",
       "0  /iZGiMD0p1M2AOmzKknFo5bkuz94.jpg  1995  \n",
       "1  /62BnXyJtVEq4WKNSpnPG7QPYYDI.jpg  1995  \n",
       "2  /oMGV48EGhsNavC1PL8HMeWs5Udq.jpg  1995  \n",
       "3  /3Rfvhy1Nl6sSGJwyjb0QiZzZYlB.jpg  1995  \n",
       "4  /47HK3UNlIfLcS2C2pDIznSyUTsI.jpg  1995  "
      ]
     },
     "execution_count": 18,
     "metadata": {},
     "output_type": "execute_result"
    }
   ],
   "source": [
    "mdf = mdf[ (mdf['year'] > 1994) | (mdf['vote_average'] > 7.5)]\n",
    "mdf.head()"
   ]
  },
  {
   "cell_type": "code",
   "execution_count": 19,
   "metadata": {},
   "outputs": [
    {
     "data": {
      "text/plain": [
       "(10073, 14)"
      ]
     },
     "execution_count": 19,
     "metadata": {},
     "output_type": "execute_result"
    }
   ],
   "source": [
    "mdf.shape"
   ]
  },
  {
   "cell_type": "markdown",
   "metadata": {},
   "source": [
    "Finally, we are left with almost 10,000 films that have complete data, more than 199 votes and were either released after 1994 or have a high average rating."
   ]
  },
  {
   "cell_type": "code",
   "execution_count": 21,
   "metadata": {},
   "outputs": [],
   "source": [
    "# Save only the ids on a csv file \n",
    "mdf[['movieId', 'id']].to_csv('../Data/Processed/movies_ids.csv', index=False)"
   ]
  }
 ],
 "metadata": {
  "kernelspec": {
   "display_name": "Python 3",
   "language": "python",
   "name": "python3"
  },
  "language_info": {
   "codemirror_mode": {
    "name": "ipython",
    "version": 3
   },
   "file_extension": ".py",
   "mimetype": "text/x-python",
   "name": "python",
   "nbconvert_exporter": "python",
   "pygments_lexer": "ipython3",
   "version": "3.12.0"
  }
 },
 "nbformat": 4,
 "nbformat_minor": 2
}
