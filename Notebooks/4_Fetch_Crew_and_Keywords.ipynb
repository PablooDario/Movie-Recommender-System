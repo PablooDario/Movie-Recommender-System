{
 "cells": [
  {
   "cell_type": "markdown",
   "metadata": {},
   "source": [
    "## Movies Crew and Keywords\n",
    "\n",
    "Once we had clean and filtered the original movies dataset, now we are going to fetch their crew information (such as the actors and directors), as well as their keywords, to have a useful dataset for a content based recommender system."
   ]
  },
  {
   "cell_type": "code",
   "execution_count": 1,
   "metadata": {},
   "outputs": [
    {
     "data": {
      "text/plain": [
       "True"
      ]
     },
     "execution_count": 1,
     "metadata": {},
     "output_type": "execute_result"
    }
   ],
   "source": [
    "\n",
    "import pandas as pd\n",
    "import numpy as np\n",
    "import requests\n",
    "import json\n",
    "import time\n",
    "from concurrent.futures import ThreadPoolExecutor, as_completed\n",
    "import os\n",
    "from dotenv import load_dotenv\n",
    "import warnings\n",
    "warnings.filterwarnings('ignore')\n",
    "\n",
    "# Load the environment variables .env\n",
    "load_dotenv()"
   ]
  },
  {
   "cell_type": "markdown",
   "metadata": {},
   "source": [
    "Get the id's of the desired films"
   ]
  },
  {
   "cell_type": "code",
   "execution_count": 2,
   "metadata": {},
   "outputs": [
    {
     "data": {
      "text/html": [
       "<div>\n",
       "<style scoped>\n",
       "    .dataframe tbody tr th:only-of-type {\n",
       "        vertical-align: middle;\n",
       "    }\n",
       "\n",
       "    .dataframe tbody tr th {\n",
       "        vertical-align: top;\n",
       "    }\n",
       "\n",
       "    .dataframe thead th {\n",
       "        text-align: right;\n",
       "    }\n",
       "</style>\n",
       "<table border=\"1\" class=\"dataframe\">\n",
       "  <thead>\n",
       "    <tr style=\"text-align: right;\">\n",
       "      <th></th>\n",
       "      <th>id</th>\n",
       "    </tr>\n",
       "  </thead>\n",
       "  <tbody>\n",
       "    <tr>\n",
       "      <th>0</th>\n",
       "      <td>524</td>\n",
       "    </tr>\n",
       "    <tr>\n",
       "      <th>1</th>\n",
       "      <td>9087</td>\n",
       "    </tr>\n",
       "    <tr>\n",
       "      <th>2</th>\n",
       "      <td>11860</td>\n",
       "    </tr>\n",
       "    <tr>\n",
       "      <th>3</th>\n",
       "      <td>862</td>\n",
       "    </tr>\n",
       "    <tr>\n",
       "      <th>4</th>\n",
       "      <td>12110</td>\n",
       "    </tr>\n",
       "  </tbody>\n",
       "</table>\n",
       "</div>"
      ],
      "text/plain": [
       "      id\n",
       "0    524\n",
       "1   9087\n",
       "2  11860\n",
       "3    862\n",
       "4  12110"
      ]
     },
     "execution_count": 2,
     "metadata": {},
     "output_type": "execute_result"
    }
   ],
   "source": [
    "ids = pd.read_csv('../Data/Processed/movies_ids.csv')\n",
    "ids.head()"
   ]
  },
  {
   "cell_type": "markdown",
   "metadata": {},
   "source": [
    "Create a function to handle the endpoints for the TMDB api"
   ]
  },
  {
   "cell_type": "code",
   "execution_count": null,
   "metadata": {},
   "outputs": [],
   "source": [
    "def fetch_tmdb_data(movie_id, api_key, endpoint=\"\"):\n",
    "    \"\"\"Generic function to fetch any TMDB data for a movie\"\"\"\n",
    "    url = f\"https://api.themoviedb.org/3/movie/{movie_id}/{endpoint}?api_key={api_key}\"\n",
    "    try:\n",
    "        response = requests.get(url)\n",
    "        if response.status_code == 200:\n",
    "            return response.json()\n",
    "        elif response.status_code == 429:  # Too Many Requests\n",
    "            # Sleep for a bit if we hit rate limits\n",
    "            time.sleep(2)\n",
    "            return fetch_tmdb_data(movie_id, api_key, endpoint)  # Simple retry\n",
    "        else:\n",
    "            print(f\"Error: HTTP {response.status_code} for movie {movie_id}\")\n",
    "            return None\n",
    "    except Exception as e:\n",
    "        print(f\"Error fetching data for movie {movie_id}: {e}\")\n",
    "        return None"
   ]
  },
  {
   "cell_type": "code",
   "execution_count": null,
   "metadata": {},
   "outputs": [],
   "source": [
    "# Create endpoint-specific functions that use the global one\n",
    "def fetch_credits(movie_id, api_key):\n",
    "    return fetch_tmdb_data(movie_id, api_key, \"credits\")\n",
    "\n",
    "def fetch_keywords(movie_id, api_key):\n",
    "    return fetch_tmdb_data(movie_id, api_key, \"keywords\")"
   ]
  },
  {
   "cell_type": "code",
   "execution_count": 6,
   "metadata": {},
   "outputs": [],
   "source": [
    "def fetch_movies(ids, api_key, fetch_func, max_workers=10, delay=0.05):\n",
    "    \"\"\"\n",
    "    Function to fetch movie data for multiple movie IDs concurrently\n",
    "    \n",
    "    Args:\n",
    "        ids: List of movie IDs\n",
    "        api_key: TMDB API key\n",
    "        fetch_func: Function to fetch specific data (e.g., fetch_credits)\n",
    "        max_workers: Max number of concurrent requests\n",
    "        delay: Small delay between requests to be nice to API\n",
    "        \n",
    "    Returns:\n",
    "        (successful_results, failed_ids)\n",
    "    \"\"\"\n",
    "    successful = []\n",
    "    failed = []\n",
    "    \n",
    "    with ThreadPoolExecutor(max_workers=max_workers) as executor:\n",
    "        futures = {executor.submit(fetch_func, movie_id, api_key): movie_id for movie_id in ids}\n",
    "        \n",
    "        for future in as_completed(futures):\n",
    "            movie_id = futures[future]\n",
    "            result = future.result()\n",
    "            \n",
    "            if result:\n",
    "                successful.append(result)\n",
    "            else:\n",
    "                failed.append(movie_id)\n",
    "            \n",
    "            # Small delay to avoid hammering the API\n",
    "            time.sleep(delay)\n",
    "    \n",
    "    return successful, failed"
   ]
  },
  {
   "cell_type": "code",
   "execution_count": 7,
   "metadata": {},
   "outputs": [],
   "source": [
    "api_key = os.getenv('tmdb_api_key')\n",
    "movie_ids = ids['id']"
   ]
  },
  {
   "cell_type": "markdown",
   "metadata": {},
   "source": [
    "Once we've created the functions to fetch the desired data correctly, we will now begin retrieving the keywords"
   ]
  },
  {
   "cell_type": "code",
   "execution_count": 8,
   "metadata": {},
   "outputs": [
    {
     "name": "stdout",
     "output_type": "stream",
     "text": [
      "Fetched 10073 movie keywords, failed 0\n"
     ]
    }
   ],
   "source": [
    "# Fetching keywords\n",
    "keywords, failed_keywords = fetch_movies(movie_ids, api_key, fetch_keywords)\n",
    "print(f\"Fetched {len(keywords)} movie keywords, failed {len(failed_keywords)}\")"
   ]
  },
  {
   "cell_type": "markdown",
   "metadata": {},
   "source": [
    "#### Keywords"
   ]
  },
  {
   "cell_type": "code",
   "execution_count": 9,
   "metadata": {},
   "outputs": [
    {
     "data": {
      "text/html": [
       "<div>\n",
       "<style scoped>\n",
       "    .dataframe tbody tr th:only-of-type {\n",
       "        vertical-align: middle;\n",
       "    }\n",
       "\n",
       "    .dataframe tbody tr th {\n",
       "        vertical-align: top;\n",
       "    }\n",
       "\n",
       "    .dataframe thead th {\n",
       "        text-align: right;\n",
       "    }\n",
       "</style>\n",
       "<table border=\"1\" class=\"dataframe\">\n",
       "  <thead>\n",
       "    <tr style=\"text-align: right;\">\n",
       "      <th></th>\n",
       "      <th>id</th>\n",
       "      <th>keywords</th>\n",
       "    </tr>\n",
       "  </thead>\n",
       "  <tbody>\n",
       "    <tr>\n",
       "      <th>0</th>\n",
       "      <td>4584</td>\n",
       "      <td>[{'id': 7879, 'name': 'secret love'}, {'id': 2...</td>\n",
       "    </tr>\n",
       "    <tr>\n",
       "      <th>1</th>\n",
       "      <td>21032</td>\n",
       "      <td>[{'id': 1994, 'name': 'wolf'}, {'id': 2551, 'n...</td>\n",
       "    </tr>\n",
       "    <tr>\n",
       "      <th>2</th>\n",
       "      <td>5</td>\n",
       "      <td>[{'id': 612, 'name': 'hotel'}, {'id': 613, 'na...</td>\n",
       "    </tr>\n",
       "    <tr>\n",
       "      <th>3</th>\n",
       "      <td>862</td>\n",
       "      <td>[{'id': 10084, 'name': 'rescue'}, {'id': 6054,...</td>\n",
       "    </tr>\n",
       "    <tr>\n",
       "      <th>4</th>\n",
       "      <td>8844</td>\n",
       "      <td>[{'id': 7035, 'name': 'giant insect'}, {'id': ...</td>\n",
       "    </tr>\n",
       "  </tbody>\n",
       "</table>\n",
       "</div>"
      ],
      "text/plain": [
       "      id                                           keywords\n",
       "0   4584  [{'id': 7879, 'name': 'secret love'}, {'id': 2...\n",
       "1  21032  [{'id': 1994, 'name': 'wolf'}, {'id': 2551, 'n...\n",
       "2      5  [{'id': 612, 'name': 'hotel'}, {'id': 613, 'na...\n",
       "3    862  [{'id': 10084, 'name': 'rescue'}, {'id': 6054,...\n",
       "4   8844  [{'id': 7035, 'name': 'giant insect'}, {'id': ..."
      ]
     },
     "execution_count": 9,
     "metadata": {},
     "output_type": "execute_result"
    }
   ],
   "source": [
    "keywords = pd.DataFrame(keywords)\n",
    "keywords.head()"
   ]
  },
  {
   "cell_type": "markdown",
   "metadata": {},
   "source": [
    "Now retrive the credits information"
   ]
  },
  {
   "cell_type": "code",
   "execution_count": 10,
   "metadata": {},
   "outputs": [
    {
     "name": "stdout",
     "output_type": "stream",
     "text": [
      "Fetched 10073 movie credits, failed 0\n"
     ]
    }
   ],
   "source": [
    "# Fetching credits\n",
    "credits, failed_credits = fetch_movies(movie_ids, api_key, fetch_credits)\n",
    "print(f\"Fetched {len(credits)} movie credits, failed {len(failed_credits)}\")"
   ]
  },
  {
   "cell_type": "markdown",
   "metadata": {},
   "source": [
    "#### Credits"
   ]
  },
  {
   "cell_type": "code",
   "execution_count": 11,
   "metadata": {},
   "outputs": [
    {
     "data": {
      "text/html": [
       "<div>\n",
       "<style scoped>\n",
       "    .dataframe tbody tr th:only-of-type {\n",
       "        vertical-align: middle;\n",
       "    }\n",
       "\n",
       "    .dataframe tbody tr th {\n",
       "        vertical-align: top;\n",
       "    }\n",
       "\n",
       "    .dataframe thead th {\n",
       "        text-align: right;\n",
       "    }\n",
       "</style>\n",
       "<table border=\"1\" class=\"dataframe\">\n",
       "  <thead>\n",
       "    <tr style=\"text-align: right;\">\n",
       "      <th></th>\n",
       "      <th>id</th>\n",
       "      <th>cast</th>\n",
       "      <th>crew</th>\n",
       "    </tr>\n",
       "  </thead>\n",
       "  <tbody>\n",
       "    <tr>\n",
       "      <th>0</th>\n",
       "      <td>9087</td>\n",
       "      <td>[{'adult': False, 'gender': 2, 'id': 3392, 'kn...</td>\n",
       "      <td>[{'adult': False, 'gender': 2, 'id': 3026, 'kn...</td>\n",
       "    </tr>\n",
       "    <tr>\n",
       "      <th>1</th>\n",
       "      <td>524</td>\n",
       "      <td>[{'adult': False, 'gender': 2, 'id': 380, 'kno...</td>\n",
       "      <td>[{'adult': False, 'gender': 2, 'id': 1032, 'kn...</td>\n",
       "    </tr>\n",
       "    <tr>\n",
       "      <th>2</th>\n",
       "      <td>4584</td>\n",
       "      <td>[{'adult': False, 'gender': 1, 'id': 7056, 'kn...</td>\n",
       "      <td>[{'adult': False, 'gender': 2, 'id': 2226, 'kn...</td>\n",
       "    </tr>\n",
       "    <tr>\n",
       "      <th>3</th>\n",
       "      <td>12110</td>\n",
       "      <td>[{'adult': False, 'gender': 2, 'id': 7633, 'kn...</td>\n",
       "      <td>[{'adult': False, 'gender': 2, 'id': 71303, 'k...</td>\n",
       "    </tr>\n",
       "    <tr>\n",
       "      <th>4</th>\n",
       "      <td>862</td>\n",
       "      <td>[{'adult': False, 'gender': 2, 'id': 31, 'know...</td>\n",
       "      <td>[{'adult': False, 'gender': 0, 'id': 12893, 'k...</td>\n",
       "    </tr>\n",
       "  </tbody>\n",
       "</table>\n",
       "</div>"
      ],
      "text/plain": [
       "      id                                               cast  \\\n",
       "0   9087  [{'adult': False, 'gender': 2, 'id': 3392, 'kn...   \n",
       "1    524  [{'adult': False, 'gender': 2, 'id': 380, 'kno...   \n",
       "2   4584  [{'adult': False, 'gender': 1, 'id': 7056, 'kn...   \n",
       "3  12110  [{'adult': False, 'gender': 2, 'id': 7633, 'kn...   \n",
       "4    862  [{'adult': False, 'gender': 2, 'id': 31, 'know...   \n",
       "\n",
       "                                                crew  \n",
       "0  [{'adult': False, 'gender': 2, 'id': 3026, 'kn...  \n",
       "1  [{'adult': False, 'gender': 2, 'id': 1032, 'kn...  \n",
       "2  [{'adult': False, 'gender': 2, 'id': 2226, 'kn...  \n",
       "3  [{'adult': False, 'gender': 2, 'id': 71303, 'k...  \n",
       "4  [{'adult': False, 'gender': 0, 'id': 12893, 'k...  "
      ]
     },
     "execution_count": 11,
     "metadata": {},
     "output_type": "execute_result"
    }
   ],
   "source": [
    "credits = pd.DataFrame(credits)\n",
    "credits.head()"
   ]
  },
  {
   "cell_type": "markdown",
   "metadata": {},
   "source": [
    "There was no movie that failed to retrieve its data."
   ]
  },
  {
   "cell_type": "code",
   "execution_count": 12,
   "metadata": {},
   "outputs": [
    {
     "data": {
      "text/plain": [
       "(0, 0)"
      ]
     },
     "execution_count": 12,
     "metadata": {},
     "output_type": "execute_result"
    }
   ],
   "source": [
    "# Ensure we do not have duplicated rows\n",
    "credits[credits['id'].duplicated()].shape[0], keywords[keywords['id'].duplicated()].shape[0]"
   ]
  },
  {
   "cell_type": "markdown",
   "metadata": {},
   "source": [
    "## Extracting the Director and Actors\n",
    "\n",
    "1. **Crew:** From the crew, we will only extract the director.\n",
    "2. **Cast:** Lesser known actors and minor roles do not really affect people's opinion of a movie. Therefore, we must only select the major characters and their respective actors, so we will choose the top 3 actors that appear in the credits list. "
   ]
  },
  {
   "cell_type": "code",
   "execution_count": 13,
   "metadata": {},
   "outputs": [],
   "source": [
    "# Convertfrom JSON to a Pyhton Object\n",
    "credits['crew'] = credits['crew'].apply(lambda x: json.loads(x) if isinstance(x, str) else x)\n",
    "credits['cast'] = credits['cast'].apply(lambda x: json.loads(x) if isinstance(x, str) else x)"
   ]
  },
  {
   "cell_type": "code",
   "execution_count": 14,
   "metadata": {},
   "outputs": [],
   "source": [
    "# Extract the director from the crew\n",
    "def get_director(x):\n",
    "    for item in x:\n",
    "        if item['job'] == 'Director':\n",
    "            return item['name']\n",
    "    return np.nan"
   ]
  },
  {
   "cell_type": "code",
   "execution_count": 15,
   "metadata": {},
   "outputs": [],
   "source": [
    "credits['director'] = credits['crew'].apply(lambda x: get_director(x))\n",
    "# Get the top 3 actors from the cast\n",
    "credits['cast'] = credits['cast'].apply(lambda x: x[:3] if len(x) >=3 else x).apply(lambda x: [item['name'] for item in x])"
   ]
  },
  {
   "cell_type": "code",
   "execution_count": 16,
   "metadata": {},
   "outputs": [
    {
     "data": {
      "text/html": [
       "<div>\n",
       "<style scoped>\n",
       "    .dataframe tbody tr th:only-of-type {\n",
       "        vertical-align: middle;\n",
       "    }\n",
       "\n",
       "    .dataframe tbody tr th {\n",
       "        vertical-align: top;\n",
       "    }\n",
       "\n",
       "    .dataframe thead th {\n",
       "        text-align: right;\n",
       "    }\n",
       "</style>\n",
       "<table border=\"1\" class=\"dataframe\">\n",
       "  <thead>\n",
       "    <tr style=\"text-align: right;\">\n",
       "      <th></th>\n",
       "      <th>id</th>\n",
       "      <th>cast</th>\n",
       "      <th>crew</th>\n",
       "      <th>director</th>\n",
       "    </tr>\n",
       "  </thead>\n",
       "  <tbody>\n",
       "    <tr>\n",
       "      <th>0</th>\n",
       "      <td>9087</td>\n",
       "      <td>[Michael Douglas, Annette Bening, Martin Sheen]</td>\n",
       "      <td>[{'adult': False, 'gender': 2, 'id': 3026, 'kn...</td>\n",
       "      <td>Rob Reiner</td>\n",
       "    </tr>\n",
       "    <tr>\n",
       "      <th>1</th>\n",
       "      <td>524</td>\n",
       "      <td>[Robert De Niro, Sharon Stone, Joe Pesci]</td>\n",
       "      <td>[{'adult': False, 'gender': 2, 'id': 1032, 'kn...</td>\n",
       "      <td>Martin Scorsese</td>\n",
       "    </tr>\n",
       "    <tr>\n",
       "      <th>2</th>\n",
       "      <td>4584</td>\n",
       "      <td>[Emma Thompson, Kate Winslet, Alan Rickman]</td>\n",
       "      <td>[{'adult': False, 'gender': 2, 'id': 2226, 'kn...</td>\n",
       "      <td>Ang Lee</td>\n",
       "    </tr>\n",
       "    <tr>\n",
       "      <th>3</th>\n",
       "      <td>12110</td>\n",
       "      <td>[Leslie Nielsen, Mel Brooks, Amy Yasbeck]</td>\n",
       "      <td>[{'adult': False, 'gender': 2, 'id': 71303, 'k...</td>\n",
       "      <td>Mel Brooks</td>\n",
       "    </tr>\n",
       "    <tr>\n",
       "      <th>4</th>\n",
       "      <td>862</td>\n",
       "      <td>[Tom Hanks, Tim Allen, Don Rickles]</td>\n",
       "      <td>[{'adult': False, 'gender': 0, 'id': 12893, 'k...</td>\n",
       "      <td>John Lasseter</td>\n",
       "    </tr>\n",
       "  </tbody>\n",
       "</table>\n",
       "</div>"
      ],
      "text/plain": [
       "      id                                             cast  \\\n",
       "0   9087  [Michael Douglas, Annette Bening, Martin Sheen]   \n",
       "1    524        [Robert De Niro, Sharon Stone, Joe Pesci]   \n",
       "2   4584      [Emma Thompson, Kate Winslet, Alan Rickman]   \n",
       "3  12110        [Leslie Nielsen, Mel Brooks, Amy Yasbeck]   \n",
       "4    862              [Tom Hanks, Tim Allen, Don Rickles]   \n",
       "\n",
       "                                                crew         director  \n",
       "0  [{'adult': False, 'gender': 2, 'id': 3026, 'kn...       Rob Reiner  \n",
       "1  [{'adult': False, 'gender': 2, 'id': 1032, 'kn...  Martin Scorsese  \n",
       "2  [{'adult': False, 'gender': 2, 'id': 2226, 'kn...          Ang Lee  \n",
       "3  [{'adult': False, 'gender': 2, 'id': 71303, 'k...       Mel Brooks  \n",
       "4  [{'adult': False, 'gender': 0, 'id': 12893, 'k...    John Lasseter  "
      ]
     },
     "execution_count": 16,
     "metadata": {},
     "output_type": "execute_result"
    }
   ],
   "source": [
    "credits.head()"
   ]
  },
  {
   "cell_type": "markdown",
   "metadata": {},
   "source": [
    "Finally we will delete the crew column, since we had already extract the relevant information"
   ]
  },
  {
   "cell_type": "code",
   "execution_count": 17,
   "metadata": {},
   "outputs": [
    {
     "data": {
      "text/plain": [
       "id          0\n",
       "cast        9\n",
       "director    0\n",
       "dtype: int64"
      ]
     },
     "execution_count": 17,
     "metadata": {},
     "output_type": "execute_result"
    }
   ],
   "source": [
    "# Delete the crew column\n",
    "credits.drop(columns='crew', inplace=True)\n",
    "\n",
    "# Nan if the film do not have information about the actors\n",
    "credits['cast'] = credits['cast'].apply(lambda x: np.nan if not x else x)\n",
    "credits.isna().sum()"
   ]
  },
  {
   "cell_type": "markdown",
   "metadata": {},
   "source": [
    "We have the complete information for all the movies"
   ]
  },
  {
   "cell_type": "markdown",
   "metadata": {},
   "source": [
    "## Extracting the Keywords\n",
    "\n",
    "Now we are going to generate a list of all the keywords for each movie"
   ]
  },
  {
   "cell_type": "code",
   "execution_count": 18,
   "metadata": {},
   "outputs": [
    {
     "data": {
      "text/plain": [
       "[{'id': 7879, 'name': 'secret love'},\n",
       " {'id': 212, 'name': 'london, england'},\n",
       " {'id': 548, 'name': 'countryside'},\n",
       " {'id': 818, 'name': 'based on novel or book'},\n",
       " {'id': 4129, 'name': 'widow'},\n",
       " {'id': 11109, 'name': 'military officer'},\n",
       " {'id': 964, 'name': 'servant'},\n",
       " {'id': 2755, 'name': 'country life'},\n",
       " {'id': 4472, 'name': 'pneumonia'},\n",
       " {'id': 10911, 'name': 'inheritance'},\n",
       " {'id': 15060, 'name': 'period drama'},\n",
       " {'id': 156507, 'name': 'rainstorm'},\n",
       " {'id': 156512, 'name': 'decorum'},\n",
       " {'id': 159871, 'name': 'horse carriage'},\n",
       " {'id': 165100, 'name': 'young love'},\n",
       " {'id': 165388, 'name': 'dowry'},\n",
       " {'id': 192311, 'name': 'social class'},\n",
       " {'id': 207928, 'name': '19th century'},\n",
       " {'id': 217957, 'name': 'penniless'},\n",
       " {'id': 227556, 'name': 'social elite'},\n",
       " {'id': 238085, 'name': 'bloodletting'},\n",
       " {'id': 243090, 'name': 'free spirited'},\n",
       " {'id': 244113, 'name': 'sussex'},\n",
       " {'id': 274542, 'name': '1800s'},\n",
       " {'id': 285894, 'name': 'sisters love'},\n",
       " {'id': 307851, 'name': 'marry for money'},\n",
       " {'id': 307852, 'name': 'secret engagement'},\n",
       " {'id': 307853, 'name': 'devonshire, england'}]"
      ]
     },
     "execution_count": 18,
     "metadata": {},
     "output_type": "execute_result"
    }
   ],
   "source": [
    "keywords.iloc[0]['keywords']"
   ]
  },
  {
   "cell_type": "markdown",
   "metadata": {},
   "source": [
    "As we can see the keyword column is a list of dictionaries, corresponding to name and id of each keyword"
   ]
  },
  {
   "cell_type": "code",
   "execution_count": 19,
   "metadata": {},
   "outputs": [
    {
     "data": {
      "text/html": [
       "<div>\n",
       "<style scoped>\n",
       "    .dataframe tbody tr th:only-of-type {\n",
       "        vertical-align: middle;\n",
       "    }\n",
       "\n",
       "    .dataframe tbody tr th {\n",
       "        vertical-align: top;\n",
       "    }\n",
       "\n",
       "    .dataframe thead th {\n",
       "        text-align: right;\n",
       "    }\n",
       "</style>\n",
       "<table border=\"1\" class=\"dataframe\">\n",
       "  <thead>\n",
       "    <tr style=\"text-align: right;\">\n",
       "      <th></th>\n",
       "      <th>id</th>\n",
       "      <th>keywords</th>\n",
       "    </tr>\n",
       "  </thead>\n",
       "  <tbody>\n",
       "    <tr>\n",
       "      <th>0</th>\n",
       "      <td>4584</td>\n",
       "      <td>[secret love, london, england, countryside, ba...</td>\n",
       "    </tr>\n",
       "    <tr>\n",
       "      <th>1</th>\n",
       "      <td>21032</td>\n",
       "      <td>[wolf, pet, cartoon, dog-sledding race, alaska...</td>\n",
       "    </tr>\n",
       "    <tr>\n",
       "      <th>2</th>\n",
       "      <td>5</td>\n",
       "      <td>[hotel, new year's eve, witch, bet, sperm, hot...</td>\n",
       "    </tr>\n",
       "    <tr>\n",
       "      <th>3</th>\n",
       "      <td>862</td>\n",
       "      <td>[rescue, friendship, mission, jealousy, villai...</td>\n",
       "    </tr>\n",
       "    <tr>\n",
       "      <th>4</th>\n",
       "      <td>8844</td>\n",
       "      <td>[giant insect, board game, disappearance, jung...</td>\n",
       "    </tr>\n",
       "  </tbody>\n",
       "</table>\n",
       "</div>"
      ],
      "text/plain": [
       "      id                                           keywords\n",
       "0   4584  [secret love, london, england, countryside, ba...\n",
       "1  21032  [wolf, pet, cartoon, dog-sledding race, alaska...\n",
       "2      5  [hotel, new year's eve, witch, bet, sperm, hot...\n",
       "3    862  [rescue, friendship, mission, jealousy, villai...\n",
       "4   8844  [giant insect, board game, disappearance, jung..."
      ]
     },
     "execution_count": 19,
     "metadata": {},
     "output_type": "execute_result"
    }
   ],
   "source": [
    "keywords['keywords'] = keywords['keywords'].apply(lambda x: json.loads(x) if isinstance(x, str) else x) \\\n",
    "                        .apply(lambda x: [item['name'] for item in x]) \\\n",
    "                        .apply(lambda x: np.nan if not x else x)\n",
    "keywords.head()"
   ]
  },
  {
   "cell_type": "code",
   "execution_count": 20,
   "metadata": {},
   "outputs": [
    {
     "data": {
      "text/plain": [
       "id            0\n",
       "keywords    614\n",
       "dtype: int64"
      ]
     },
     "execution_count": 20,
     "metadata": {},
     "output_type": "execute_result"
    }
   ],
   "source": [
    "keywords.isna().sum()"
   ]
  },
  {
   "cell_type": "markdown",
   "metadata": {},
   "source": [
    "There are only 614 films without keywords"
   ]
  },
  {
   "cell_type": "markdown",
   "metadata": {},
   "source": [
    "## Add the extra details to the films\n",
    "\n",
    "Finally we will add the directors, actors and keywords to their corresponding film in the movies metadata csv file "
   ]
  },
  {
   "cell_type": "code",
   "execution_count": 21,
   "metadata": {},
   "outputs": [],
   "source": [
    "mdf = pd.read_csv('../Data/Raw/movies_metadata.csv')\n",
    "# Select only the relevant columns\n",
    "mdf = mdf[['movieId', 'id', 'title', 'genres', 'overview', 'release_date', \n",
    "           'popularity', 'runtime', 'status', 'tagline',  'vote_average', \n",
    "           'vote_count', 'poster_path', 'backdrop_path']]\n",
    "# Select the filtered movies\n",
    "mdf = mdf[mdf['id'].isin(ids['id'])]"
   ]
  },
  {
   "cell_type": "code",
   "execution_count": 22,
   "metadata": {},
   "outputs": [
    {
     "data": {
      "text/html": [
       "<div>\n",
       "<style scoped>\n",
       "    .dataframe tbody tr th:only-of-type {\n",
       "        vertical-align: middle;\n",
       "    }\n",
       "\n",
       "    .dataframe tbody tr th {\n",
       "        vertical-align: top;\n",
       "    }\n",
       "\n",
       "    .dataframe thead th {\n",
       "        text-align: right;\n",
       "    }\n",
       "</style>\n",
       "<table border=\"1\" class=\"dataframe\">\n",
       "  <thead>\n",
       "    <tr style=\"text-align: right;\">\n",
       "      <th></th>\n",
       "      <th>0</th>\n",
       "      <th>1</th>\n",
       "      <th>2</th>\n",
       "      <th>3</th>\n",
       "      <th>4</th>\n",
       "    </tr>\n",
       "  </thead>\n",
       "  <tbody>\n",
       "    <tr>\n",
       "      <th>movieId</th>\n",
       "      <td>16.0</td>\n",
       "      <td>11.0</td>\n",
       "      <td>7.0</td>\n",
       "      <td>1.0</td>\n",
       "      <td>12.0</td>\n",
       "    </tr>\n",
       "    <tr>\n",
       "      <th>id</th>\n",
       "      <td>524</td>\n",
       "      <td>9087</td>\n",
       "      <td>11860</td>\n",
       "      <td>862</td>\n",
       "      <td>12110</td>\n",
       "    </tr>\n",
       "    <tr>\n",
       "      <th>title</th>\n",
       "      <td>Casino</td>\n",
       "      <td>The American President</td>\n",
       "      <td>Sabrina</td>\n",
       "      <td>Toy Story</td>\n",
       "      <td>Dracula: Dead and Loving It</td>\n",
       "    </tr>\n",
       "    <tr>\n",
       "      <th>genres</th>\n",
       "      <td>[{'id': 80, 'name': 'Crime'}, {'id': 18, 'name...</td>\n",
       "      <td>[{'id': 35, 'name': 'Comedy'}, {'id': 18, 'nam...</td>\n",
       "      <td>[{'id': 10749, 'name': 'Romance'}, {'id': 18, ...</td>\n",
       "      <td>[{'id': 16, 'name': 'Animation'}, {'id': 12, '...</td>\n",
       "      <td>[{'id': 35, 'name': 'Comedy'}, {'id': 27, 'nam...</td>\n",
       "    </tr>\n",
       "    <tr>\n",
       "      <th>overview</th>\n",
       "      <td>In early-1970s Las Vegas, Sam \"Ace\" Rothstein ...</td>\n",
       "      <td>Widowed U.S. president Andrew Shepherd, one of...</td>\n",
       "      <td>Sabrina Fairchild, a chauffeur's daughter, gre...</td>\n",
       "      <td>Led by Woody, Andy's toys live happily in his ...</td>\n",
       "      <td>When a lawyer shows up at the vampire's doorst...</td>\n",
       "    </tr>\n",
       "    <tr>\n",
       "      <th>release_date</th>\n",
       "      <td>1995-11-22</td>\n",
       "      <td>1995-11-17</td>\n",
       "      <td>1995-12-15</td>\n",
       "      <td>1995-11-22</td>\n",
       "      <td>1995-12-22</td>\n",
       "    </tr>\n",
       "    <tr>\n",
       "      <th>popularity</th>\n",
       "      <td>6.6361</td>\n",
       "      <td>1.6287</td>\n",
       "      <td>2.7156</td>\n",
       "      <td>22.3485</td>\n",
       "      <td>2.0197</td>\n",
       "    </tr>\n",
       "    <tr>\n",
       "      <th>runtime</th>\n",
       "      <td>179.0</td>\n",
       "      <td>114.0</td>\n",
       "      <td>127.0</td>\n",
       "      <td>81.0</td>\n",
       "      <td>88.0</td>\n",
       "    </tr>\n",
       "    <tr>\n",
       "      <th>status</th>\n",
       "      <td>Released</td>\n",
       "      <td>Released</td>\n",
       "      <td>Released</td>\n",
       "      <td>Released</td>\n",
       "      <td>Released</td>\n",
       "    </tr>\n",
       "    <tr>\n",
       "      <th>tagline</th>\n",
       "      <td>No one stays at the top forever.</td>\n",
       "      <td>Why can't the most powerful man in the world h...</td>\n",
       "      <td>You are cordially invited to the most surprisi...</td>\n",
       "      <td>Hang on for the comedy that goes to infinity a...</td>\n",
       "      <td>You'll laugh until you die...then you'll rise ...</td>\n",
       "    </tr>\n",
       "    <tr>\n",
       "      <th>vote_average</th>\n",
       "      <td>7.997</td>\n",
       "      <td>6.5</td>\n",
       "      <td>6.204</td>\n",
       "      <td>7.968</td>\n",
       "      <td>6.1</td>\n",
       "    </tr>\n",
       "    <tr>\n",
       "      <th>vote_count</th>\n",
       "      <td>5994.0</td>\n",
       "      <td>732.0</td>\n",
       "      <td>641.0</td>\n",
       "      <td>18714.0</td>\n",
       "      <td>997.0</td>\n",
       "    </tr>\n",
       "    <tr>\n",
       "      <th>poster_path</th>\n",
       "      <td>/gziIkUSnYuj9ChCi8qOu2ZunpSC.jpg</td>\n",
       "      <td>/yObOAYFIHXHkFPQ3jhgkN2ezaD.jpg</td>\n",
       "      <td>/i8PbLJDPU7vCwwscWD625oHbJy.jpg</td>\n",
       "      <td>/uXDfjJbdP4ijW5hWSBrPrlKpxab.jpg</td>\n",
       "      <td>/fwdXQU3Dbs2CMHu8K87bAxlWV0t.jpg</td>\n",
       "    </tr>\n",
       "    <tr>\n",
       "      <th>backdrop_path</th>\n",
       "      <td>/iZGiMD0p1M2AOmzKknFo5bkuz94.jpg</td>\n",
       "      <td>/62BnXyJtVEq4WKNSpnPG7QPYYDI.jpg</td>\n",
       "      <td>/oMGV48EGhsNavC1PL8HMeWs5Udq.jpg</td>\n",
       "      <td>/3Rfvhy1Nl6sSGJwyjb0QiZzZYlB.jpg</td>\n",
       "      <td>/47HK3UNlIfLcS2C2pDIznSyUTsI.jpg</td>\n",
       "    </tr>\n",
       "    <tr>\n",
       "      <th>cast</th>\n",
       "      <td>[Robert De Niro, Sharon Stone, Joe Pesci]</td>\n",
       "      <td>[Michael Douglas, Annette Bening, Martin Sheen]</td>\n",
       "      <td>[Harrison Ford, Julia Ormond, Greg Kinnear]</td>\n",
       "      <td>[Tom Hanks, Tim Allen, Don Rickles]</td>\n",
       "      <td>[Leslie Nielsen, Mel Brooks, Amy Yasbeck]</td>\n",
       "    </tr>\n",
       "    <tr>\n",
       "      <th>director</th>\n",
       "      <td>Martin Scorsese</td>\n",
       "      <td>Rob Reiner</td>\n",
       "      <td>Sydney Pollack</td>\n",
       "      <td>John Lasseter</td>\n",
       "      <td>Mel Brooks</td>\n",
       "    </tr>\n",
       "    <tr>\n",
       "      <th>keywords</th>\n",
       "      <td>[drug abuse, casino, based on novel or book, p...</td>\n",
       "      <td>[new love, usa president, the white house, cla...</td>\n",
       "      <td>[chauffeur, sibling relationship, paris, franc...</td>\n",
       "      <td>[rescue, friendship, mission, jealousy, villai...</td>\n",
       "      <td>[vampire, satire, spoof, dracula]</td>\n",
       "    </tr>\n",
       "  </tbody>\n",
       "</table>\n",
       "</div>"
      ],
      "text/plain": [
       "                                                               0  \\\n",
       "movieId                                                     16.0   \n",
       "id                                                           524   \n",
       "title                                                     Casino   \n",
       "genres         [{'id': 80, 'name': 'Crime'}, {'id': 18, 'name...   \n",
       "overview       In early-1970s Las Vegas, Sam \"Ace\" Rothstein ...   \n",
       "release_date                                          1995-11-22   \n",
       "popularity                                                6.6361   \n",
       "runtime                                                    179.0   \n",
       "status                                                  Released   \n",
       "tagline                         No one stays at the top forever.   \n",
       "vote_average                                               7.997   \n",
       "vote_count                                                5994.0   \n",
       "poster_path                     /gziIkUSnYuj9ChCi8qOu2ZunpSC.jpg   \n",
       "backdrop_path                   /iZGiMD0p1M2AOmzKknFo5bkuz94.jpg   \n",
       "cast                   [Robert De Niro, Sharon Stone, Joe Pesci]   \n",
       "director                                         Martin Scorsese   \n",
       "keywords       [drug abuse, casino, based on novel or book, p...   \n",
       "\n",
       "                                                               1  \\\n",
       "movieId                                                     11.0   \n",
       "id                                                          9087   \n",
       "title                                     The American President   \n",
       "genres         [{'id': 35, 'name': 'Comedy'}, {'id': 18, 'nam...   \n",
       "overview       Widowed U.S. president Andrew Shepherd, one of...   \n",
       "release_date                                          1995-11-17   \n",
       "popularity                                                1.6287   \n",
       "runtime                                                    114.0   \n",
       "status                                                  Released   \n",
       "tagline        Why can't the most powerful man in the world h...   \n",
       "vote_average                                                 6.5   \n",
       "vote_count                                                 732.0   \n",
       "poster_path                      /yObOAYFIHXHkFPQ3jhgkN2ezaD.jpg   \n",
       "backdrop_path                   /62BnXyJtVEq4WKNSpnPG7QPYYDI.jpg   \n",
       "cast             [Michael Douglas, Annette Bening, Martin Sheen]   \n",
       "director                                              Rob Reiner   \n",
       "keywords       [new love, usa president, the white house, cla...   \n",
       "\n",
       "                                                               2  \\\n",
       "movieId                                                      7.0   \n",
       "id                                                         11860   \n",
       "title                                                    Sabrina   \n",
       "genres         [{'id': 10749, 'name': 'Romance'}, {'id': 18, ...   \n",
       "overview       Sabrina Fairchild, a chauffeur's daughter, gre...   \n",
       "release_date                                          1995-12-15   \n",
       "popularity                                                2.7156   \n",
       "runtime                                                    127.0   \n",
       "status                                                  Released   \n",
       "tagline        You are cordially invited to the most surprisi...   \n",
       "vote_average                                               6.204   \n",
       "vote_count                                                 641.0   \n",
       "poster_path                      /i8PbLJDPU7vCwwscWD625oHbJy.jpg   \n",
       "backdrop_path                   /oMGV48EGhsNavC1PL8HMeWs5Udq.jpg   \n",
       "cast                 [Harrison Ford, Julia Ormond, Greg Kinnear]   \n",
       "director                                          Sydney Pollack   \n",
       "keywords       [chauffeur, sibling relationship, paris, franc...   \n",
       "\n",
       "                                                               3  \\\n",
       "movieId                                                      1.0   \n",
       "id                                                           862   \n",
       "title                                                  Toy Story   \n",
       "genres         [{'id': 16, 'name': 'Animation'}, {'id': 12, '...   \n",
       "overview       Led by Woody, Andy's toys live happily in his ...   \n",
       "release_date                                          1995-11-22   \n",
       "popularity                                               22.3485   \n",
       "runtime                                                     81.0   \n",
       "status                                                  Released   \n",
       "tagline        Hang on for the comedy that goes to infinity a...   \n",
       "vote_average                                               7.968   \n",
       "vote_count                                               18714.0   \n",
       "poster_path                     /uXDfjJbdP4ijW5hWSBrPrlKpxab.jpg   \n",
       "backdrop_path                   /3Rfvhy1Nl6sSGJwyjb0QiZzZYlB.jpg   \n",
       "cast                         [Tom Hanks, Tim Allen, Don Rickles]   \n",
       "director                                           John Lasseter   \n",
       "keywords       [rescue, friendship, mission, jealousy, villai...   \n",
       "\n",
       "                                                               4  \n",
       "movieId                                                     12.0  \n",
       "id                                                         12110  \n",
       "title                                Dracula: Dead and Loving It  \n",
       "genres         [{'id': 35, 'name': 'Comedy'}, {'id': 27, 'nam...  \n",
       "overview       When a lawyer shows up at the vampire's doorst...  \n",
       "release_date                                          1995-12-22  \n",
       "popularity                                                2.0197  \n",
       "runtime                                                     88.0  \n",
       "status                                                  Released  \n",
       "tagline        You'll laugh until you die...then you'll rise ...  \n",
       "vote_average                                                 6.1  \n",
       "vote_count                                                 997.0  \n",
       "poster_path                     /fwdXQU3Dbs2CMHu8K87bAxlWV0t.jpg  \n",
       "backdrop_path                   /47HK3UNlIfLcS2C2pDIznSyUTsI.jpg  \n",
       "cast                   [Leslie Nielsen, Mel Brooks, Amy Yasbeck]  \n",
       "director                                              Mel Brooks  \n",
       "keywords                       [vampire, satire, spoof, dracula]  "
      ]
     },
     "execution_count": 22,
     "metadata": {},
     "output_type": "execute_result"
    }
   ],
   "source": [
    "# Merge the DataFrames\n",
    "df = pd.merge(pd.merge(mdf, credits, on='id'), keywords, on='id')\n",
    "df.head().transpose()"
   ]
  },
  {
   "cell_type": "code",
   "execution_count": 23,
   "metadata": {},
   "outputs": [
    {
     "data": {
      "text/plain": [
       "(10073, 17)"
      ]
     },
     "execution_count": 23,
     "metadata": {},
     "output_type": "execute_result"
    }
   ],
   "source": [
    "df.shape"
   ]
  },
  {
   "cell_type": "markdown",
   "metadata": {},
   "source": [
    "See if we have duplicated values"
   ]
  },
  {
   "cell_type": "code",
   "execution_count": 26,
   "metadata": {},
   "outputs": [
    {
     "name": "stdout",
     "output_type": "stream",
     "text": [
      "There are 256 duplicated titles, 0 duplicated TMDB ids, and 0 duplicated movie ids.\n"
     ]
    }
   ],
   "source": [
    "rt = df['title'].duplicated().sum()\n",
    "rtmdb = df['id'].duplicated().sum()\n",
    "rid = df['movieId'].duplicated().sum()\n",
    "\n",
    "print(f'There are {rt} duplicated titles, {rtmdb} duplicated TMDB ids, and {rid} duplicated movie ids.')"
   ]
  },
  {
   "cell_type": "markdown",
   "metadata": {},
   "source": [
    "Delete the duplicated titles and select the one with the highest vote_count"
   ]
  },
  {
   "cell_type": "code",
   "execution_count": null,
   "metadata": {},
   "outputs": [
    {
     "data": {
      "text/plain": [
       "(9817, 17)"
      ]
     },
     "execution_count": 27,
     "metadata": {},
     "output_type": "execute_result"
    }
   ],
   "source": [
    "df_final = df.loc[df.groupby('title')['vote_count'].idxmax()]\n",
    "df_final.shape"
   ]
  },
  {
   "cell_type": "code",
   "execution_count": 29,
   "metadata": {},
   "outputs": [
    {
     "name": "stdout",
     "output_type": "stream",
     "text": [
      "There are 0 duplicated titles, 0 duplicated TMDB ids, and 0 duplicated movie ids.\n"
     ]
    }
   ],
   "source": [
    "rt = df_final['title'].duplicated().sum()\n",
    "rtmdb = df_final['id'].duplicated().sum()\n",
    "rid = df_final['movieId'].duplicated().sum()\n",
    "\n",
    "print(f'There are {rt} duplicated titles, {rtmdb} duplicated TMDB ids, and {rid} duplicated movie ids.')"
   ]
  },
  {
   "cell_type": "code",
   "execution_count": 34,
   "metadata": {},
   "outputs": [
    {
     "data": {
      "text/html": [
       "<div>\n",
       "<style scoped>\n",
       "    .dataframe tbody tr th:only-of-type {\n",
       "        vertical-align: middle;\n",
       "    }\n",
       "\n",
       "    .dataframe tbody tr th {\n",
       "        vertical-align: top;\n",
       "    }\n",
       "\n",
       "    .dataframe thead th {\n",
       "        text-align: right;\n",
       "    }\n",
       "</style>\n",
       "<table border=\"1\" class=\"dataframe\">\n",
       "  <thead>\n",
       "    <tr style=\"text-align: right;\">\n",
       "      <th></th>\n",
       "      <th>movieId</th>\n",
       "      <th>id</th>\n",
       "      <th>title</th>\n",
       "      <th>genres</th>\n",
       "      <th>overview</th>\n",
       "      <th>release_date</th>\n",
       "      <th>popularity</th>\n",
       "      <th>runtime</th>\n",
       "      <th>status</th>\n",
       "      <th>tagline</th>\n",
       "      <th>vote_average</th>\n",
       "      <th>vote_count</th>\n",
       "      <th>poster_path</th>\n",
       "      <th>backdrop_path</th>\n",
       "      <th>cast</th>\n",
       "      <th>director</th>\n",
       "      <th>keywords</th>\n",
       "    </tr>\n",
       "  </thead>\n",
       "  <tbody>\n",
       "    <tr>\n",
       "      <th>8710</th>\n",
       "      <td>221850</td>\n",
       "      <td>614696</td>\n",
       "      <td>#Alive</td>\n",
       "      <td>[{'id': 28, 'name': 'Action'}, {'id': 27, 'nam...</td>\n",
       "      <td>As a grisly virus rampages a city, a lone man ...</td>\n",
       "      <td>2020-06-24</td>\n",
       "      <td>3.6641</td>\n",
       "      <td>98.0</td>\n",
       "      <td>Released</td>\n",
       "      <td>You must survive.</td>\n",
       "      <td>7.231</td>\n",
       "      <td>1868.0</td>\n",
       "      <td>/lZPvLUMYEPLTE2df1VW5FHTYC8N.jpg</td>\n",
       "      <td>/k2SY15W9QXH9qL8f4a4BbytV1BE.jpg</td>\n",
       "      <td>[Yoo Ah-in, Park Shin-hye, Lee Hyun-wook]</td>\n",
       "      <td>Cho Il</td>\n",
       "      <td>[escape, alone, survival, drone, zombie, apart...</td>\n",
       "    </tr>\n",
       "    <tr>\n",
       "      <th>8485</th>\n",
       "      <td>212989</td>\n",
       "      <td>605734</td>\n",
       "      <td>#Iamhere</td>\n",
       "      <td>[{'id': 35, 'name': 'Comedy'}, {'id': 10749, '...</td>\n",
       "      <td>Stéphane lives a quiet life as an eminent Fren...</td>\n",
       "      <td>2020-02-05</td>\n",
       "      <td>0.6237</td>\n",
       "      <td>100.0</td>\n",
       "      <td>Released</td>\n",
       "      <td>NaN</td>\n",
       "      <td>5.600</td>\n",
       "      <td>208.0</td>\n",
       "      <td>/yxHDlr90ww0XZt3U26W95JNExf3.jpg</td>\n",
       "      <td>/g5ZCG8coC1bfB81anxL52l30uDe.jpg</td>\n",
       "      <td>[Alain Chabat, Bae Doona, Jules Sagot]</td>\n",
       "      <td>Eric Lartigau</td>\n",
       "      <td>[seoul, south korea]</td>\n",
       "    </tr>\n",
       "    <tr>\n",
       "      <th>7082</th>\n",
       "      <td>177545</td>\n",
       "      <td>455656</td>\n",
       "      <td>#realityhigh</td>\n",
       "      <td>[{'id': 35, 'name': 'Comedy'}]</td>\n",
       "      <td>When nerdy high schooler Dani finally attracts...</td>\n",
       "      <td>2017-07-17</td>\n",
       "      <td>1.4162</td>\n",
       "      <td>99.0</td>\n",
       "      <td>Released</td>\n",
       "      <td>NaN</td>\n",
       "      <td>6.280</td>\n",
       "      <td>1028.0</td>\n",
       "      <td>/iZliPeiiDta9KbONAhdFSXhTxrO.jpg</td>\n",
       "      <td>/smgZYp49OB6xo4hZewxzryrh5xN.jpg</td>\n",
       "      <td>[Nesta Cooper, Keith Powers, Alicia Sanz]</td>\n",
       "      <td>Fernando Lebrija</td>\n",
       "      <td>[high school, nerd, teenage crush, social media]</td>\n",
       "    </tr>\n",
       "    <tr>\n",
       "      <th>5205</th>\n",
       "      <td>117867</td>\n",
       "      <td>252178</td>\n",
       "      <td>'71</td>\n",
       "      <td>[{'id': 53, 'name': 'Thriller'}, {'id': 28, 'n...</td>\n",
       "      <td>A young British soldier must find his way back...</td>\n",
       "      <td>2014-10-10</td>\n",
       "      <td>1.3967</td>\n",
       "      <td>99.0</td>\n",
       "      <td>Released</td>\n",
       "      <td>NaN</td>\n",
       "      <td>6.803</td>\n",
       "      <td>1137.0</td>\n",
       "      <td>/xjorsS84euahsmGlnEEeE3LFSVZ.jpg</td>\n",
       "      <td>/aTloiKdNs2c8vlstbx3wBWD6Thi.jpg</td>\n",
       "      <td>[Jack O'Connell, Sean Harris, Paul Anderson]</td>\n",
       "      <td>Yann Demange</td>\n",
       "      <td>[1970s, riot, northern ireland, survival, sold...</td>\n",
       "    </tr>\n",
       "    <tr>\n",
       "      <th>3335</th>\n",
       "      <td>69757</td>\n",
       "      <td>19913</td>\n",
       "      <td>(500) Days of Summer</td>\n",
       "      <td>[{'id': 35, 'name': 'Comedy'}, {'id': 18, 'nam...</td>\n",
       "      <td>Tom, greeting-card writer and hopeless romanti...</td>\n",
       "      <td>2009-07-17</td>\n",
       "      <td>9.5369</td>\n",
       "      <td>95.0</td>\n",
       "      <td>Released</td>\n",
       "      <td>This is not a love story. This is a story abou...</td>\n",
       "      <td>7.293</td>\n",
       "      <td>10342.0</td>\n",
       "      <td>/qXAuQ9hF30sQRsXf40OfRVl0MJZ.jpg</td>\n",
       "      <td>/1M2i4Mxd03elGOTmEkIvqrHfmyS.jpg</td>\n",
       "      <td>[Joseph Gordon-Levitt, Zooey Deschanel, Geoffr...</td>\n",
       "      <td>Marc Webb</td>\n",
       "      <td>[jealousy, gallery, fight, date, architect, in...</td>\n",
       "    </tr>\n",
       "  </tbody>\n",
       "</table>\n",
       "</div>"
      ],
      "text/plain": [
       "      movieId      id                 title  \\\n",
       "8710   221850  614696                #Alive   \n",
       "8485   212989  605734              #Iamhere   \n",
       "7082   177545  455656          #realityhigh   \n",
       "5205   117867  252178                   '71   \n",
       "3335    69757   19913  (500) Days of Summer   \n",
       "\n",
       "                                                 genres  \\\n",
       "8710  [{'id': 28, 'name': 'Action'}, {'id': 27, 'nam...   \n",
       "8485  [{'id': 35, 'name': 'Comedy'}, {'id': 10749, '...   \n",
       "7082                     [{'id': 35, 'name': 'Comedy'}]   \n",
       "5205  [{'id': 53, 'name': 'Thriller'}, {'id': 28, 'n...   \n",
       "3335  [{'id': 35, 'name': 'Comedy'}, {'id': 18, 'nam...   \n",
       "\n",
       "                                               overview release_date  \\\n",
       "8710  As a grisly virus rampages a city, a lone man ...   2020-06-24   \n",
       "8485  Stéphane lives a quiet life as an eminent Fren...   2020-02-05   \n",
       "7082  When nerdy high schooler Dani finally attracts...   2017-07-17   \n",
       "5205  A young British soldier must find his way back...   2014-10-10   \n",
       "3335  Tom, greeting-card writer and hopeless romanti...   2009-07-17   \n",
       "\n",
       "     popularity  runtime    status  \\\n",
       "8710     3.6641     98.0  Released   \n",
       "8485     0.6237    100.0  Released   \n",
       "7082     1.4162     99.0  Released   \n",
       "5205     1.3967     99.0  Released   \n",
       "3335     9.5369     95.0  Released   \n",
       "\n",
       "                                                tagline  vote_average  \\\n",
       "8710                                  You must survive.         7.231   \n",
       "8485                                                NaN         5.600   \n",
       "7082                                                NaN         6.280   \n",
       "5205                                                NaN         6.803   \n",
       "3335  This is not a love story. This is a story abou...         7.293   \n",
       "\n",
       "      vote_count                       poster_path  \\\n",
       "8710      1868.0  /lZPvLUMYEPLTE2df1VW5FHTYC8N.jpg   \n",
       "8485       208.0  /yxHDlr90ww0XZt3U26W95JNExf3.jpg   \n",
       "7082      1028.0  /iZliPeiiDta9KbONAhdFSXhTxrO.jpg   \n",
       "5205      1137.0  /xjorsS84euahsmGlnEEeE3LFSVZ.jpg   \n",
       "3335     10342.0  /qXAuQ9hF30sQRsXf40OfRVl0MJZ.jpg   \n",
       "\n",
       "                         backdrop_path  \\\n",
       "8710  /k2SY15W9QXH9qL8f4a4BbytV1BE.jpg   \n",
       "8485  /g5ZCG8coC1bfB81anxL52l30uDe.jpg   \n",
       "7082  /smgZYp49OB6xo4hZewxzryrh5xN.jpg   \n",
       "5205  /aTloiKdNs2c8vlstbx3wBWD6Thi.jpg   \n",
       "3335  /1M2i4Mxd03elGOTmEkIvqrHfmyS.jpg   \n",
       "\n",
       "                                                   cast          director  \\\n",
       "8710          [Yoo Ah-in, Park Shin-hye, Lee Hyun-wook]            Cho Il   \n",
       "8485             [Alain Chabat, Bae Doona, Jules Sagot]     Eric Lartigau   \n",
       "7082          [Nesta Cooper, Keith Powers, Alicia Sanz]  Fernando Lebrija   \n",
       "5205       [Jack O'Connell, Sean Harris, Paul Anderson]      Yann Demange   \n",
       "3335  [Joseph Gordon-Levitt, Zooey Deschanel, Geoffr...         Marc Webb   \n",
       "\n",
       "                                               keywords  \n",
       "8710  [escape, alone, survival, drone, zombie, apart...  \n",
       "8485                               [seoul, south korea]  \n",
       "7082   [high school, nerd, teenage crush, social media]  \n",
       "5205  [1970s, riot, northern ireland, survival, sold...  \n",
       "3335  [jealousy, gallery, fight, date, architect, in...  "
      ]
     },
     "execution_count": 34,
     "metadata": {},
     "output_type": "execute_result"
    }
   ],
   "source": [
    "df_final['movieId'] = df_final['movieId'].astype(int)\n",
    "df_final.head()"
   ]
  },
  {
   "cell_type": "markdown",
   "metadata": {},
   "source": [
    "## Save the Final Dataset"
   ]
  },
  {
   "cell_type": "markdown",
   "metadata": {},
   "source": [
    "Once we have fetched the data, added it to the CSV metadata file, and removed any duplicate titles, we will save it as the final CSV file, which will be used for the recommender system"
   ]
  },
  {
   "cell_type": "code",
   "execution_count": null,
   "metadata": {},
   "outputs": [],
   "source": [
    "# Save it as the final dataset\n",
    "df_final.to_csv('../Data/Processed/movies_final.csv', index=False)"
   ]
  }
 ],
 "metadata": {
  "kernelspec": {
   "display_name": "Python 3",
   "language": "python",
   "name": "python3"
  },
  "language_info": {
   "codemirror_mode": {
    "name": "ipython",
    "version": 3
   },
   "file_extension": ".py",
   "mimetype": "text/x-python",
   "name": "python",
   "nbconvert_exporter": "python",
   "pygments_lexer": "ipython3",
   "version": "3.12.0"
  }
 },
 "nbformat": 4,
 "nbformat_minor": 2
}
