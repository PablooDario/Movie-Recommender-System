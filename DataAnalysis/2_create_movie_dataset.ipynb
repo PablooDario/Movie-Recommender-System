{
 "cells": [
  {
   "cell_type": "markdown",
   "metadata": {},
   "source": [
    "# Create the final movies dataset\n",
    "\n",
    "In this notebook I will create the final movie dataset by cleaning, filtering and merging it with the cast information for the recommender system."
   ]
  },
  {
   "cell_type": "code",
   "execution_count": 1,
   "metadata": {},
   "outputs": [],
   "source": [
    "import pandas as pd\n",
    "import ast\n",
    "import numpy as np\n",
    "import warnings\n",
    "warnings.filterwarnings(\"ignore\")"
   ]
  },
  {
   "cell_type": "markdown",
   "metadata": {},
   "source": [
    "## Movies Dataset"
   ]
  },
  {
   "cell_type": "code",
   "execution_count": 2,
   "metadata": {},
   "outputs": [
    {
     "data": {
      "text/html": [
       "<div>\n",
       "<style scoped>\n",
       "    .dataframe tbody tr th:only-of-type {\n",
       "        vertical-align: middle;\n",
       "    }\n",
       "\n",
       "    .dataframe tbody tr th {\n",
       "        vertical-align: top;\n",
       "    }\n",
       "\n",
       "    .dataframe thead th {\n",
       "        text-align: right;\n",
       "    }\n",
       "</style>\n",
       "<table border=\"1\" class=\"dataframe\">\n",
       "  <thead>\n",
       "    <tr style=\"text-align: right;\">\n",
       "      <th></th>\n",
       "      <th>0</th>\n",
       "      <th>1</th>\n",
       "      <th>2</th>\n",
       "      <th>3</th>\n",
       "      <th>4</th>\n",
       "    </tr>\n",
       "  </thead>\n",
       "  <tbody>\n",
       "    <tr>\n",
       "      <th>id</th>\n",
       "      <td>862</td>\n",
       "      <td>8844</td>\n",
       "      <td>15602</td>\n",
       "      <td>31357</td>\n",
       "      <td>11862</td>\n",
       "    </tr>\n",
       "    <tr>\n",
       "      <th>title</th>\n",
       "      <td>Toy Story</td>\n",
       "      <td>Jumanji</td>\n",
       "      <td>Grumpier Old Men</td>\n",
       "      <td>Waiting to Exhale</td>\n",
       "      <td>Father of the Bride Part II</td>\n",
       "    </tr>\n",
       "    <tr>\n",
       "      <th>genres</th>\n",
       "      <td>[{'id': 16, 'name': 'Animation'}, {'id': 35, '...</td>\n",
       "      <td>[{'id': 12, 'name': 'Adventure'}, {'id': 14, '...</td>\n",
       "      <td>[{'id': 10749, 'name': 'Romance'}, {'id': 35, ...</td>\n",
       "      <td>[{'id': 35, 'name': 'Comedy'}, {'id': 18, 'nam...</td>\n",
       "      <td>[{'id': 35, 'name': 'Comedy'}]</td>\n",
       "    </tr>\n",
       "    <tr>\n",
       "      <th>overview</th>\n",
       "      <td>Led by Woody, Andy's toys live happily in his ...</td>\n",
       "      <td>When siblings Judy and Peter discover an encha...</td>\n",
       "      <td>A family wedding reignites the ancient feud be...</td>\n",
       "      <td>Cheated on, mistreated and stepped on, the wom...</td>\n",
       "      <td>Just when George Banks has recovered from his ...</td>\n",
       "    </tr>\n",
       "    <tr>\n",
       "      <th>popularity</th>\n",
       "      <td>21.946943</td>\n",
       "      <td>17.015539</td>\n",
       "      <td>11.7129</td>\n",
       "      <td>3.859495</td>\n",
       "      <td>8.387519</td>\n",
       "    </tr>\n",
       "    <tr>\n",
       "      <th>belongs_to_collection</th>\n",
       "      <td>{'id': 10194, 'name': 'Toy Story Collection', ...</td>\n",
       "      <td>NaN</td>\n",
       "      <td>{'id': 119050, 'name': 'Grumpy Old Men Collect...</td>\n",
       "      <td>NaN</td>\n",
       "      <td>{'id': 96871, 'name': 'Father of the Bride Col...</td>\n",
       "    </tr>\n",
       "    <tr>\n",
       "      <th>production_companies</th>\n",
       "      <td>[{'name': 'Pixar Animation Studios', 'id': 3}]</td>\n",
       "      <td>[{'name': 'TriStar Pictures', 'id': 559}, {'na...</td>\n",
       "      <td>[{'name': 'Warner Bros.', 'id': 6194}, {'name'...</td>\n",
       "      <td>[{'name': 'Twentieth Century Fox Film Corporat...</td>\n",
       "      <td>[{'name': 'Sandollar Productions', 'id': 5842}...</td>\n",
       "    </tr>\n",
       "    <tr>\n",
       "      <th>release_date</th>\n",
       "      <td>1995-10-30</td>\n",
       "      <td>1995-12-15</td>\n",
       "      <td>1995-12-22</td>\n",
       "      <td>1995-12-22</td>\n",
       "      <td>1995-02-10</td>\n",
       "    </tr>\n",
       "    <tr>\n",
       "      <th>tagline</th>\n",
       "      <td>NaN</td>\n",
       "      <td>Roll the dice and unleash the excitement!</td>\n",
       "      <td>Still Yelling. Still Fighting. Still Ready for...</td>\n",
       "      <td>Friends are the people who let you be yourself...</td>\n",
       "      <td>Just When His World Is Back To Normal... He's ...</td>\n",
       "    </tr>\n",
       "    <tr>\n",
       "      <th>vote_average</th>\n",
       "      <td>7.7</td>\n",
       "      <td>6.9</td>\n",
       "      <td>6.5</td>\n",
       "      <td>6.1</td>\n",
       "      <td>5.7</td>\n",
       "    </tr>\n",
       "    <tr>\n",
       "      <th>vote_count</th>\n",
       "      <td>5415.0</td>\n",
       "      <td>2413.0</td>\n",
       "      <td>92.0</td>\n",
       "      <td>34.0</td>\n",
       "      <td>173.0</td>\n",
       "    </tr>\n",
       "  </tbody>\n",
       "</table>\n",
       "</div>"
      ],
      "text/plain": [
       "                                                                       0  \\\n",
       "id                                                                   862   \n",
       "title                                                          Toy Story   \n",
       "genres                 [{'id': 16, 'name': 'Animation'}, {'id': 35, '...   \n",
       "overview               Led by Woody, Andy's toys live happily in his ...   \n",
       "popularity                                                     21.946943   \n",
       "belongs_to_collection  {'id': 10194, 'name': 'Toy Story Collection', ...   \n",
       "production_companies      [{'name': 'Pixar Animation Studios', 'id': 3}]   \n",
       "release_date                                                  1995-10-30   \n",
       "tagline                                                              NaN   \n",
       "vote_average                                                         7.7   \n",
       "vote_count                                                        5415.0   \n",
       "\n",
       "                                                                       1  \\\n",
       "id                                                                  8844   \n",
       "title                                                            Jumanji   \n",
       "genres                 [{'id': 12, 'name': 'Adventure'}, {'id': 14, '...   \n",
       "overview               When siblings Judy and Peter discover an encha...   \n",
       "popularity                                                     17.015539   \n",
       "belongs_to_collection                                                NaN   \n",
       "production_companies   [{'name': 'TriStar Pictures', 'id': 559}, {'na...   \n",
       "release_date                                                  1995-12-15   \n",
       "tagline                        Roll the dice and unleash the excitement!   \n",
       "vote_average                                                         6.9   \n",
       "vote_count                                                        2413.0   \n",
       "\n",
       "                                                                       2  \\\n",
       "id                                                                 15602   \n",
       "title                                                   Grumpier Old Men   \n",
       "genres                 [{'id': 10749, 'name': 'Romance'}, {'id': 35, ...   \n",
       "overview               A family wedding reignites the ancient feud be...   \n",
       "popularity                                                       11.7129   \n",
       "belongs_to_collection  {'id': 119050, 'name': 'Grumpy Old Men Collect...   \n",
       "production_companies   [{'name': 'Warner Bros.', 'id': 6194}, {'name'...   \n",
       "release_date                                                  1995-12-22   \n",
       "tagline                Still Yelling. Still Fighting. Still Ready for...   \n",
       "vote_average                                                         6.5   \n",
       "vote_count                                                          92.0   \n",
       "\n",
       "                                                                       3  \\\n",
       "id                                                                 31357   \n",
       "title                                                  Waiting to Exhale   \n",
       "genres                 [{'id': 35, 'name': 'Comedy'}, {'id': 18, 'nam...   \n",
       "overview               Cheated on, mistreated and stepped on, the wom...   \n",
       "popularity                                                      3.859495   \n",
       "belongs_to_collection                                                NaN   \n",
       "production_companies   [{'name': 'Twentieth Century Fox Film Corporat...   \n",
       "release_date                                                  1995-12-22   \n",
       "tagline                Friends are the people who let you be yourself...   \n",
       "vote_average                                                         6.1   \n",
       "vote_count                                                          34.0   \n",
       "\n",
       "                                                                       4  \n",
       "id                                                                 11862  \n",
       "title                                        Father of the Bride Part II  \n",
       "genres                                    [{'id': 35, 'name': 'Comedy'}]  \n",
       "overview               Just when George Banks has recovered from his ...  \n",
       "popularity                                                      8.387519  \n",
       "belongs_to_collection  {'id': 96871, 'name': 'Father of the Bride Col...  \n",
       "production_companies   [{'name': 'Sandollar Productions', 'id': 5842}...  \n",
       "release_date                                                  1995-02-10  \n",
       "tagline                Just When His World Is Back To Normal... He's ...  \n",
       "vote_average                                                         5.7  \n",
       "vote_count                                                         173.0  "
      ]
     },
     "execution_count": 2,
     "metadata": {},
     "output_type": "execute_result"
    }
   ],
   "source": [
    "mdf = pd.read_csv('../Data/movies_metadata.csv')\n",
    "# Select only the relevant columns\n",
    "mdf = mdf[['id', 'title', 'genres', 'overview', 'popularity',\n",
    "       'belongs_to_collection', 'production_companies', \n",
    "       'release_date', 'tagline', 'vote_average', 'vote_count']]\n",
    "mdf.head().transpose()"
   ]
  },
  {
   "cell_type": "markdown",
   "metadata": {},
   "source": [
    "## Clean the dataset\n",
    "\n",
    "We will clean the dataset by removing rows that don't contain important information and converting certain columns to the required data types."
   ]
  },
  {
   "cell_type": "markdown",
   "metadata": {},
   "source": [
    "### Title and Overview\n",
    "\n",
    "Drop the films that do not have title or overview. Since without the title we do not know which movie is and without the overview we cannot get the similarity between movies."
   ]
  },
  {
   "cell_type": "code",
   "execution_count": 3,
   "metadata": {},
   "outputs": [],
   "source": [
    "mdf.dropna(subset='title', inplace=True)\n",
    "mdf.dropna(subset='overview', inplace=True)"
   ]
  },
  {
   "cell_type": "markdown",
   "metadata": {},
   "source": [
    "### Genres, Belongs to Collection & Production Companies\n",
    "\n",
    "Extract the genres, collection (if available), and production companies, as those columns are stored as json"
   ]
  },
  {
   "cell_type": "code",
   "execution_count": 4,
   "metadata": {},
   "outputs": [],
   "source": [
    "def extract_dict(s):\n",
    "    try:\n",
    "        return ast.literal_eval(s)\n",
    "    except (ValueError, SyntaxError):\n",
    "        return np.nan"
   ]
  },
  {
   "cell_type": "code",
   "execution_count": 5,
   "metadata": {},
   "outputs": [
    {
     "data": {
      "text/html": [
       "<div>\n",
       "<style scoped>\n",
       "    .dataframe tbody tr th:only-of-type {\n",
       "        vertical-align: middle;\n",
       "    }\n",
       "\n",
       "    .dataframe tbody tr th {\n",
       "        vertical-align: top;\n",
       "    }\n",
       "\n",
       "    .dataframe thead th {\n",
       "        text-align: right;\n",
       "    }\n",
       "</style>\n",
       "<table border=\"1\" class=\"dataframe\">\n",
       "  <thead>\n",
       "    <tr style=\"text-align: right;\">\n",
       "      <th></th>\n",
       "      <th>0</th>\n",
       "      <th>1</th>\n",
       "      <th>2</th>\n",
       "      <th>3</th>\n",
       "      <th>4</th>\n",
       "    </tr>\n",
       "  </thead>\n",
       "  <tbody>\n",
       "    <tr>\n",
       "      <th>id</th>\n",
       "      <td>862</td>\n",
       "      <td>8844</td>\n",
       "      <td>15602</td>\n",
       "      <td>31357</td>\n",
       "      <td>11862</td>\n",
       "    </tr>\n",
       "    <tr>\n",
       "      <th>title</th>\n",
       "      <td>Toy Story</td>\n",
       "      <td>Jumanji</td>\n",
       "      <td>Grumpier Old Men</td>\n",
       "      <td>Waiting to Exhale</td>\n",
       "      <td>Father of the Bride Part II</td>\n",
       "    </tr>\n",
       "    <tr>\n",
       "      <th>genres</th>\n",
       "      <td>[Animation, Comedy, Family]</td>\n",
       "      <td>[Adventure, Fantasy, Family]</td>\n",
       "      <td>[Romance, Comedy]</td>\n",
       "      <td>[Comedy, Drama, Romance]</td>\n",
       "      <td>[Comedy]</td>\n",
       "    </tr>\n",
       "    <tr>\n",
       "      <th>overview</th>\n",
       "      <td>Led by Woody, Andy's toys live happily in his ...</td>\n",
       "      <td>When siblings Judy and Peter discover an encha...</td>\n",
       "      <td>A family wedding reignites the ancient feud be...</td>\n",
       "      <td>Cheated on, mistreated and stepped on, the wom...</td>\n",
       "      <td>Just when George Banks has recovered from his ...</td>\n",
       "    </tr>\n",
       "    <tr>\n",
       "      <th>popularity</th>\n",
       "      <td>21.946943</td>\n",
       "      <td>17.015539</td>\n",
       "      <td>11.7129</td>\n",
       "      <td>3.859495</td>\n",
       "      <td>8.387519</td>\n",
       "    </tr>\n",
       "    <tr>\n",
       "      <th>belongs_to_collection</th>\n",
       "      <td>Toy Story Collection</td>\n",
       "      <td>NaN</td>\n",
       "      <td>Grumpy Old Men Collection</td>\n",
       "      <td>NaN</td>\n",
       "      <td>Father of the Bride Collection</td>\n",
       "    </tr>\n",
       "    <tr>\n",
       "      <th>production_companies</th>\n",
       "      <td>[Pixar Animation Studios]</td>\n",
       "      <td>[TriStar Pictures, Teitler Film, Interscope Co...</td>\n",
       "      <td>[Warner Bros., Lancaster Gate]</td>\n",
       "      <td>[Twentieth Century Fox Film Corporation]</td>\n",
       "      <td>[Sandollar Productions, Touchstone Pictures]</td>\n",
       "    </tr>\n",
       "    <tr>\n",
       "      <th>release_date</th>\n",
       "      <td>1995-10-30</td>\n",
       "      <td>1995-12-15</td>\n",
       "      <td>1995-12-22</td>\n",
       "      <td>1995-12-22</td>\n",
       "      <td>1995-02-10</td>\n",
       "    </tr>\n",
       "    <tr>\n",
       "      <th>tagline</th>\n",
       "      <td>NaN</td>\n",
       "      <td>Roll the dice and unleash the excitement!</td>\n",
       "      <td>Still Yelling. Still Fighting. Still Ready for...</td>\n",
       "      <td>Friends are the people who let you be yourself...</td>\n",
       "      <td>Just When His World Is Back To Normal... He's ...</td>\n",
       "    </tr>\n",
       "    <tr>\n",
       "      <th>vote_average</th>\n",
       "      <td>7.7</td>\n",
       "      <td>6.9</td>\n",
       "      <td>6.5</td>\n",
       "      <td>6.1</td>\n",
       "      <td>5.7</td>\n",
       "    </tr>\n",
       "    <tr>\n",
       "      <th>vote_count</th>\n",
       "      <td>5415.0</td>\n",
       "      <td>2413.0</td>\n",
       "      <td>92.0</td>\n",
       "      <td>34.0</td>\n",
       "      <td>173.0</td>\n",
       "    </tr>\n",
       "  </tbody>\n",
       "</table>\n",
       "</div>"
      ],
      "text/plain": [
       "                                                                       0  \\\n",
       "id                                                                   862   \n",
       "title                                                          Toy Story   \n",
       "genres                                       [Animation, Comedy, Family]   \n",
       "overview               Led by Woody, Andy's toys live happily in his ...   \n",
       "popularity                                                     21.946943   \n",
       "belongs_to_collection                               Toy Story Collection   \n",
       "production_companies                           [Pixar Animation Studios]   \n",
       "release_date                                                  1995-10-30   \n",
       "tagline                                                              NaN   \n",
       "vote_average                                                         7.7   \n",
       "vote_count                                                        5415.0   \n",
       "\n",
       "                                                                       1  \\\n",
       "id                                                                  8844   \n",
       "title                                                            Jumanji   \n",
       "genres                                      [Adventure, Fantasy, Family]   \n",
       "overview               When siblings Judy and Peter discover an encha...   \n",
       "popularity                                                     17.015539   \n",
       "belongs_to_collection                                                NaN   \n",
       "production_companies   [TriStar Pictures, Teitler Film, Interscope Co...   \n",
       "release_date                                                  1995-12-15   \n",
       "tagline                        Roll the dice and unleash the excitement!   \n",
       "vote_average                                                         6.9   \n",
       "vote_count                                                        2413.0   \n",
       "\n",
       "                                                                       2  \\\n",
       "id                                                                 15602   \n",
       "title                                                   Grumpier Old Men   \n",
       "genres                                                 [Romance, Comedy]   \n",
       "overview               A family wedding reignites the ancient feud be...   \n",
       "popularity                                                       11.7129   \n",
       "belongs_to_collection                          Grumpy Old Men Collection   \n",
       "production_companies                      [Warner Bros., Lancaster Gate]   \n",
       "release_date                                                  1995-12-22   \n",
       "tagline                Still Yelling. Still Fighting. Still Ready for...   \n",
       "vote_average                                                         6.5   \n",
       "vote_count                                                          92.0   \n",
       "\n",
       "                                                                       3  \\\n",
       "id                                                                 31357   \n",
       "title                                                  Waiting to Exhale   \n",
       "genres                                          [Comedy, Drama, Romance]   \n",
       "overview               Cheated on, mistreated and stepped on, the wom...   \n",
       "popularity                                                      3.859495   \n",
       "belongs_to_collection                                                NaN   \n",
       "production_companies            [Twentieth Century Fox Film Corporation]   \n",
       "release_date                                                  1995-12-22   \n",
       "tagline                Friends are the people who let you be yourself...   \n",
       "vote_average                                                         6.1   \n",
       "vote_count                                                          34.0   \n",
       "\n",
       "                                                                       4  \n",
       "id                                                                 11862  \n",
       "title                                        Father of the Bride Part II  \n",
       "genres                                                          [Comedy]  \n",
       "overview               Just when George Banks has recovered from his ...  \n",
       "popularity                                                      8.387519  \n",
       "belongs_to_collection                     Father of the Bride Collection  \n",
       "production_companies        [Sandollar Productions, Touchstone Pictures]  \n",
       "release_date                                                  1995-02-10  \n",
       "tagline                Just When His World Is Back To Normal... He's ...  \n",
       "vote_average                                                         5.7  \n",
       "vote_count                                                         173.0  "
      ]
     },
     "execution_count": 5,
     "metadata": {},
     "output_type": "execute_result"
    }
   ],
   "source": [
    "mdf['genres'] =  mdf['genres'].apply(lambda x: ast.literal_eval(x)).apply(lambda x: [item['name'] for item in x])\n",
    "mdf['belongs_to_collection'] = mdf['belongs_to_collection'].apply(extract_dict).apply(lambda x: x['name'] if isinstance(x, dict) else np.nan)\n",
    "mdf['production_companies'] = mdf['production_companies'].apply(lambda x: ast.literal_eval(x)).apply(lambda x: [item['name'] for item in x])\n",
    "mdf.head().transpose()"
   ]
  },
  {
   "cell_type": "markdown",
   "metadata": {},
   "source": [
    "Delete the films of which we do not have their genre(s)"
   ]
  },
  {
   "cell_type": "code",
   "execution_count": 6,
   "metadata": {},
   "outputs": [],
   "source": [
    "mdf['genres'] = mdf['genres'].apply(lambda x: np.nan if not x else x)\n",
    "mdf.dropna(subset='genres', inplace=True)"
   ]
  },
  {
   "cell_type": "markdown",
   "metadata": {},
   "source": [
    "See all the genres we have"
   ]
  },
  {
   "cell_type": "code",
   "execution_count": 7,
   "metadata": {},
   "outputs": [
    {
     "data": {
      "text/plain": [
       "(20,\n",
       " {'Action',\n",
       "  'Adventure',\n",
       "  'Animation',\n",
       "  'Comedy',\n",
       "  'Crime',\n",
       "  'Documentary',\n",
       "  'Drama',\n",
       "  'Family',\n",
       "  'Fantasy',\n",
       "  'Foreign',\n",
       "  'History',\n",
       "  'Horror',\n",
       "  'Music',\n",
       "  'Mystery',\n",
       "  'Romance',\n",
       "  'Science Fiction',\n",
       "  'TV Movie',\n",
       "  'Thriller',\n",
       "  'War',\n",
       "  'Western'})"
      ]
     },
     "execution_count": 7,
     "metadata": {},
     "output_type": "execute_result"
    }
   ],
   "source": [
    "genres = set([genre for sublist in mdf['genres'] for genre in sublist])\n",
    "len(genres), genres"
   ]
  },
  {
   "cell_type": "markdown",
   "metadata": {},
   "source": [
    "Convert to Nan the movies that do not have their production company"
   ]
  },
  {
   "cell_type": "code",
   "execution_count": 8,
   "metadata": {},
   "outputs": [],
   "source": [
    "mdf['production_companies'] = mdf['production_companies'].apply(lambda x: np.nan if not x else x)"
   ]
  },
  {
   "cell_type": "markdown",
   "metadata": {},
   "source": [
    "## Filtering the films\n",
    "\n",
    "Once we have extracted all the data correctly and cleaned the dataset, we are now going to filter the movies"
   ]
  },
  {
   "cell_type": "markdown",
   "metadata": {},
   "source": [
    "### Votes\n",
    "\n",
    "We are going to filter the movies that have more than 50 votes"
   ]
  },
  {
   "cell_type": "code",
   "execution_count": 9,
   "metadata": {},
   "outputs": [
    {
     "data": {
      "text/plain": [
       "(9008, 11)"
      ]
     },
     "execution_count": 9,
     "metadata": {},
     "output_type": "execute_result"
    }
   ],
   "source": [
    "mdf['vote_count'] = mdf['vote_count'].astype('int')\n",
    "mdf = mdf[mdf['vote_count'] > 50]\n",
    "mdf.shape"
   ]
  },
  {
   "cell_type": "markdown",
   "metadata": {},
   "source": [
    "We are left with approximately 25% of the dataset"
   ]
  },
  {
   "cell_type": "markdown",
   "metadata": {},
   "source": [
    "### Year\n",
    "\n",
    "Extract the year from the films."
   ]
  },
  {
   "cell_type": "code",
   "execution_count": 10,
   "metadata": {},
   "outputs": [],
   "source": [
    "mdf['release_date'] = pd.to_datetime(mdf['release_date'], errors='coerce')\n",
    "mdf['year'] = mdf['release_date'].dt.year.fillna(1989).astype('int')"
   ]
  },
  {
   "cell_type": "markdown",
   "metadata": {},
   "source": [
    "Select the movies released after 1994 or with a rating higher than 8."
   ]
  },
  {
   "cell_type": "code",
   "execution_count": 11,
   "metadata": {},
   "outputs": [
    {
     "data": {
      "text/html": [
       "<div>\n",
       "<style scoped>\n",
       "    .dataframe tbody tr th:only-of-type {\n",
       "        vertical-align: middle;\n",
       "    }\n",
       "\n",
       "    .dataframe tbody tr th {\n",
       "        vertical-align: top;\n",
       "    }\n",
       "\n",
       "    .dataframe thead th {\n",
       "        text-align: right;\n",
       "    }\n",
       "</style>\n",
       "<table border=\"1\" class=\"dataframe\">\n",
       "  <thead>\n",
       "    <tr style=\"text-align: right;\">\n",
       "      <th></th>\n",
       "      <th>id</th>\n",
       "      <th>title</th>\n",
       "      <th>genres</th>\n",
       "      <th>overview</th>\n",
       "      <th>popularity</th>\n",
       "      <th>belongs_to_collection</th>\n",
       "      <th>production_companies</th>\n",
       "      <th>release_date</th>\n",
       "      <th>tagline</th>\n",
       "      <th>vote_average</th>\n",
       "      <th>vote_count</th>\n",
       "      <th>year</th>\n",
       "    </tr>\n",
       "  </thead>\n",
       "  <tbody>\n",
       "    <tr>\n",
       "      <th>0</th>\n",
       "      <td>862</td>\n",
       "      <td>Toy Story</td>\n",
       "      <td>[Animation, Comedy, Family]</td>\n",
       "      <td>Led by Woody, Andy's toys live happily in his ...</td>\n",
       "      <td>21.946943</td>\n",
       "      <td>Toy Story Collection</td>\n",
       "      <td>[Pixar Animation Studios]</td>\n",
       "      <td>1995-10-30</td>\n",
       "      <td>NaN</td>\n",
       "      <td>7.7</td>\n",
       "      <td>5415</td>\n",
       "      <td>1995</td>\n",
       "    </tr>\n",
       "    <tr>\n",
       "      <th>1</th>\n",
       "      <td>8844</td>\n",
       "      <td>Jumanji</td>\n",
       "      <td>[Adventure, Fantasy, Family]</td>\n",
       "      <td>When siblings Judy and Peter discover an encha...</td>\n",
       "      <td>17.015539</td>\n",
       "      <td>NaN</td>\n",
       "      <td>[TriStar Pictures, Teitler Film, Interscope Co...</td>\n",
       "      <td>1995-12-15</td>\n",
       "      <td>Roll the dice and unleash the excitement!</td>\n",
       "      <td>6.9</td>\n",
       "      <td>2413</td>\n",
       "      <td>1995</td>\n",
       "    </tr>\n",
       "    <tr>\n",
       "      <th>2</th>\n",
       "      <td>15602</td>\n",
       "      <td>Grumpier Old Men</td>\n",
       "      <td>[Romance, Comedy]</td>\n",
       "      <td>A family wedding reignites the ancient feud be...</td>\n",
       "      <td>11.7129</td>\n",
       "      <td>Grumpy Old Men Collection</td>\n",
       "      <td>[Warner Bros., Lancaster Gate]</td>\n",
       "      <td>1995-12-22</td>\n",
       "      <td>Still Yelling. Still Fighting. Still Ready for...</td>\n",
       "      <td>6.5</td>\n",
       "      <td>92</td>\n",
       "      <td>1995</td>\n",
       "    </tr>\n",
       "    <tr>\n",
       "      <th>4</th>\n",
       "      <td>11862</td>\n",
       "      <td>Father of the Bride Part II</td>\n",
       "      <td>[Comedy]</td>\n",
       "      <td>Just when George Banks has recovered from his ...</td>\n",
       "      <td>8.387519</td>\n",
       "      <td>Father of the Bride Collection</td>\n",
       "      <td>[Sandollar Productions, Touchstone Pictures]</td>\n",
       "      <td>1995-02-10</td>\n",
       "      <td>Just When His World Is Back To Normal... He's ...</td>\n",
       "      <td>5.7</td>\n",
       "      <td>173</td>\n",
       "      <td>1995</td>\n",
       "    </tr>\n",
       "    <tr>\n",
       "      <th>5</th>\n",
       "      <td>949</td>\n",
       "      <td>Heat</td>\n",
       "      <td>[Action, Crime, Drama, Thriller]</td>\n",
       "      <td>Obsessive master thief, Neil McCauley leads a ...</td>\n",
       "      <td>17.924927</td>\n",
       "      <td>NaN</td>\n",
       "      <td>[Regency Enterprises, Forward Pass, Warner Bros.]</td>\n",
       "      <td>1995-12-15</td>\n",
       "      <td>A Los Angeles Crime Saga</td>\n",
       "      <td>7.7</td>\n",
       "      <td>1886</td>\n",
       "      <td>1995</td>\n",
       "    </tr>\n",
       "  </tbody>\n",
       "</table>\n",
       "</div>"
      ],
      "text/plain": [
       "      id                        title                            genres  \\\n",
       "0    862                    Toy Story       [Animation, Comedy, Family]   \n",
       "1   8844                      Jumanji      [Adventure, Fantasy, Family]   \n",
       "2  15602             Grumpier Old Men                 [Romance, Comedy]   \n",
       "4  11862  Father of the Bride Part II                          [Comedy]   \n",
       "5    949                         Heat  [Action, Crime, Drama, Thriller]   \n",
       "\n",
       "                                            overview popularity  \\\n",
       "0  Led by Woody, Andy's toys live happily in his ...  21.946943   \n",
       "1  When siblings Judy and Peter discover an encha...  17.015539   \n",
       "2  A family wedding reignites the ancient feud be...    11.7129   \n",
       "4  Just when George Banks has recovered from his ...   8.387519   \n",
       "5  Obsessive master thief, Neil McCauley leads a ...  17.924927   \n",
       "\n",
       "            belongs_to_collection  \\\n",
       "0            Toy Story Collection   \n",
       "1                             NaN   \n",
       "2       Grumpy Old Men Collection   \n",
       "4  Father of the Bride Collection   \n",
       "5                             NaN   \n",
       "\n",
       "                                production_companies release_date  \\\n",
       "0                          [Pixar Animation Studios]   1995-10-30   \n",
       "1  [TriStar Pictures, Teitler Film, Interscope Co...   1995-12-15   \n",
       "2                     [Warner Bros., Lancaster Gate]   1995-12-22   \n",
       "4       [Sandollar Productions, Touchstone Pictures]   1995-02-10   \n",
       "5  [Regency Enterprises, Forward Pass, Warner Bros.]   1995-12-15   \n",
       "\n",
       "                                             tagline  vote_average  \\\n",
       "0                                                NaN           7.7   \n",
       "1          Roll the dice and unleash the excitement!           6.9   \n",
       "2  Still Yelling. Still Fighting. Still Ready for...           6.5   \n",
       "4  Just When His World Is Back To Normal... He's ...           5.7   \n",
       "5                           A Los Angeles Crime Saga           7.7   \n",
       "\n",
       "   vote_count  year  \n",
       "0        5415  1995  \n",
       "1        2413  1995  \n",
       "2          92  1995  \n",
       "4         173  1995  \n",
       "5        1886  1995  "
      ]
     },
     "execution_count": 11,
     "metadata": {},
     "output_type": "execute_result"
    }
   ],
   "source": [
    "mdf = mdf[ (mdf['year'] > 1994) | (mdf['vote_average'] > 8)]\n",
    "mdf.head()"
   ]
  },
  {
   "cell_type": "code",
   "execution_count": 12,
   "metadata": {},
   "outputs": [
    {
     "data": {
      "text/plain": [
       "(6717, 12)"
      ]
     },
     "execution_count": 12,
     "metadata": {},
     "output_type": "execute_result"
    }
   ],
   "source": [
    "mdf.shape"
   ]
  },
  {
   "cell_type": "markdown",
   "metadata": {},
   "source": [
    "Finally, we are left with 6,717 films that have complete data and were either released after 1994 or have a high average rating."
   ]
  },
  {
   "cell_type": "code",
   "execution_count": 13,
   "metadata": {},
   "outputs": [],
   "source": [
    "# Drop the release date and year\n",
    "mdf = mdf.drop(columns=['release_date', 'year']).reset_index(drop=True)"
   ]
  },
  {
   "cell_type": "code",
   "execution_count": 14,
   "metadata": {},
   "outputs": [
    {
     "name": "stdout",
     "output_type": "stream",
     "text": [
      "<class 'pandas.core.frame.DataFrame'>\n",
      "RangeIndex: 6717 entries, 0 to 6716\n",
      "Data columns (total 10 columns):\n",
      " #   Column                 Non-Null Count  Dtype  \n",
      "---  ------                 --------------  -----  \n",
      " 0   id                     6717 non-null   object \n",
      " 1   title                  6717 non-null   object \n",
      " 2   genres                 6717 non-null   object \n",
      " 3   overview               6717 non-null   object \n",
      " 4   popularity             6717 non-null   object \n",
      " 5   belongs_to_collection  1374 non-null   object \n",
      " 6   production_companies   6520 non-null   object \n",
      " 7   tagline                5139 non-null   object \n",
      " 8   vote_average           6717 non-null   float64\n",
      " 9   vote_count             6717 non-null   int64  \n",
      "dtypes: float64(1), int64(1), object(8)\n",
      "memory usage: 524.9+ KB\n"
     ]
    }
   ],
   "source": [
    "mdf.info()"
   ]
  },
  {
   "cell_type": "code",
   "execution_count": 15,
   "metadata": {},
   "outputs": [],
   "source": [
    "# Convert popularity to Float\n",
    "mdf['popularity'] = mdf['popularity'].astype('float')"
   ]
  },
  {
   "cell_type": "code",
   "execution_count": 16,
   "metadata": {},
   "outputs": [
    {
     "data": {
      "text/plain": [
       "id                          0\n",
       "title                       0\n",
       "genres                      0\n",
       "overview                    0\n",
       "popularity                  0\n",
       "belongs_to_collection    5343\n",
       "production_companies      197\n",
       "tagline                  1578\n",
       "vote_average                0\n",
       "vote_count                  0\n",
       "dtype: int64"
      ]
     },
     "execution_count": 16,
     "metadata": {},
     "output_type": "execute_result"
    }
   ],
   "source": [
    "mdf.isnull().sum()"
   ]
  },
  {
   "cell_type": "markdown",
   "metadata": {},
   "source": [
    "In the final dataset we have:\n",
    "\n",
    "- 5343 films that do not belongs to a collection\n",
    "- 197 films that do not have information about their prodcution companies \n",
    "- 1578 movies without tagline.\n",
    "\n",
    "The null taglines does not matter as we are going to concatenate it with the overview. We will fill the null values of production companies with 'unkwon', later we will check out what we'll do with the null values in the column 'belongs to a collection'."
   ]
  },
  {
   "cell_type": "markdown",
   "metadata": {},
   "source": [
    "### Taglines and Overview\n",
    "\n",
    "Concatenate the tagline with the overview, so in the recommender system we can use these features as one to find the similarity."
   ]
  },
  {
   "cell_type": "code",
   "execution_count": 20,
   "metadata": {},
   "outputs": [
    {
     "data": {
      "text/html": [
       "<div>\n",
       "<style scoped>\n",
       "    .dataframe tbody tr th:only-of-type {\n",
       "        vertical-align: middle;\n",
       "    }\n",
       "\n",
       "    .dataframe tbody tr th {\n",
       "        vertical-align: top;\n",
       "    }\n",
       "\n",
       "    .dataframe thead th {\n",
       "        text-align: right;\n",
       "    }\n",
       "</style>\n",
       "<table border=\"1\" class=\"dataframe\">\n",
       "  <thead>\n",
       "    <tr style=\"text-align: right;\">\n",
       "      <th></th>\n",
       "      <th>id</th>\n",
       "      <th>title</th>\n",
       "      <th>genres</th>\n",
       "      <th>overview</th>\n",
       "      <th>popularity</th>\n",
       "      <th>belongs_to_collection</th>\n",
       "      <th>production_companies</th>\n",
       "      <th>vote_average</th>\n",
       "      <th>vote_count</th>\n",
       "    </tr>\n",
       "  </thead>\n",
       "  <tbody>\n",
       "    <tr>\n",
       "      <th>0</th>\n",
       "      <td>862</td>\n",
       "      <td>Toy Story</td>\n",
       "      <td>[Animation, Comedy, Family]</td>\n",
       "      <td>Led by Woody, Andy's toys live happily in his ...</td>\n",
       "      <td>21.946943</td>\n",
       "      <td>Toy Story Collection</td>\n",
       "      <td>[Pixar Animation Studios]</td>\n",
       "      <td>7.7</td>\n",
       "      <td>5415</td>\n",
       "    </tr>\n",
       "    <tr>\n",
       "      <th>1</th>\n",
       "      <td>8844</td>\n",
       "      <td>Jumanji</td>\n",
       "      <td>[Adventure, Fantasy, Family]</td>\n",
       "      <td>When siblings Judy and Peter discover an encha...</td>\n",
       "      <td>17.015539</td>\n",
       "      <td>NaN</td>\n",
       "      <td>[TriStar Pictures, Teitler Film, Interscope Co...</td>\n",
       "      <td>6.9</td>\n",
       "      <td>2413</td>\n",
       "    </tr>\n",
       "    <tr>\n",
       "      <th>2</th>\n",
       "      <td>15602</td>\n",
       "      <td>Grumpier Old Men</td>\n",
       "      <td>[Romance, Comedy]</td>\n",
       "      <td>A family wedding reignites the ancient feud be...</td>\n",
       "      <td>11.712900</td>\n",
       "      <td>Grumpy Old Men Collection</td>\n",
       "      <td>[Warner Bros., Lancaster Gate]</td>\n",
       "      <td>6.5</td>\n",
       "      <td>92</td>\n",
       "    </tr>\n",
       "    <tr>\n",
       "      <th>3</th>\n",
       "      <td>11862</td>\n",
       "      <td>Father of the Bride Part II</td>\n",
       "      <td>[Comedy]</td>\n",
       "      <td>Just when George Banks has recovered from his ...</td>\n",
       "      <td>8.387519</td>\n",
       "      <td>Father of the Bride Collection</td>\n",
       "      <td>[Sandollar Productions, Touchstone Pictures]</td>\n",
       "      <td>5.7</td>\n",
       "      <td>173</td>\n",
       "    </tr>\n",
       "    <tr>\n",
       "      <th>4</th>\n",
       "      <td>949</td>\n",
       "      <td>Heat</td>\n",
       "      <td>[Action, Crime, Drama, Thriller]</td>\n",
       "      <td>Obsessive master thief, Neil McCauley leads a ...</td>\n",
       "      <td>17.924927</td>\n",
       "      <td>NaN</td>\n",
       "      <td>[Regency Enterprises, Forward Pass, Warner Bros.]</td>\n",
       "      <td>7.7</td>\n",
       "      <td>1886</td>\n",
       "    </tr>\n",
       "  </tbody>\n",
       "</table>\n",
       "</div>"
      ],
      "text/plain": [
       "      id                        title                            genres  \\\n",
       "0    862                    Toy Story       [Animation, Comedy, Family]   \n",
       "1   8844                      Jumanji      [Adventure, Fantasy, Family]   \n",
       "2  15602             Grumpier Old Men                 [Romance, Comedy]   \n",
       "3  11862  Father of the Bride Part II                          [Comedy]   \n",
       "4    949                         Heat  [Action, Crime, Drama, Thriller]   \n",
       "\n",
       "                                            overview  popularity  \\\n",
       "0  Led by Woody, Andy's toys live happily in his ...   21.946943   \n",
       "1  When siblings Judy and Peter discover an encha...   17.015539   \n",
       "2  A family wedding reignites the ancient feud be...   11.712900   \n",
       "3  Just when George Banks has recovered from his ...    8.387519   \n",
       "4  Obsessive master thief, Neil McCauley leads a ...   17.924927   \n",
       "\n",
       "            belongs_to_collection  \\\n",
       "0            Toy Story Collection   \n",
       "1                             NaN   \n",
       "2       Grumpy Old Men Collection   \n",
       "3  Father of the Bride Collection   \n",
       "4                             NaN   \n",
       "\n",
       "                                production_companies  vote_average  vote_count  \n",
       "0                          [Pixar Animation Studios]           7.7        5415  \n",
       "1  [TriStar Pictures, Teitler Film, Interscope Co...           6.9        2413  \n",
       "2                     [Warner Bros., Lancaster Gate]           6.5          92  \n",
       "3       [Sandollar Productions, Touchstone Pictures]           5.7         173  \n",
       "4  [Regency Enterprises, Forward Pass, Warner Bros.]           7.7        1886  "
      ]
     },
     "execution_count": 20,
     "metadata": {},
     "output_type": "execute_result"
    }
   ],
   "source": [
    "mdf['overview'] = mdf['overview'] + mdf['tagline'].fillna('')\n",
    "mdf.drop(columns='tagline', inplace=True)\n",
    "mdf.head()"
   ]
  },
  {
   "cell_type": "markdown",
   "metadata": {},
   "source": [
    "### Production Companies\n",
    "\n",
    "Let's explore the films that do not have a production company"
   ]
  },
  {
   "cell_type": "code",
   "execution_count": 21,
   "metadata": {},
   "outputs": [
    {
     "data": {
      "text/html": [
       "<div>\n",
       "<style scoped>\n",
       "    .dataframe tbody tr th:only-of-type {\n",
       "        vertical-align: middle;\n",
       "    }\n",
       "\n",
       "    .dataframe tbody tr th {\n",
       "        vertical-align: top;\n",
       "    }\n",
       "\n",
       "    .dataframe thead th {\n",
       "        text-align: right;\n",
       "    }\n",
       "</style>\n",
       "<table border=\"1\" class=\"dataframe\">\n",
       "  <thead>\n",
       "    <tr style=\"text-align: right;\">\n",
       "      <th></th>\n",
       "      <th>title</th>\n",
       "      <th>popularity</th>\n",
       "    </tr>\n",
       "  </thead>\n",
       "  <tbody>\n",
       "    <tr>\n",
       "      <th>6673</th>\n",
       "      <td>Black Mirror: White Christmas</td>\n",
       "      <td>24.910782</td>\n",
       "    </tr>\n",
       "    <tr>\n",
       "      <th>428</th>\n",
       "      <td>The Opposite of Sex</td>\n",
       "      <td>14.734622</td>\n",
       "    </tr>\n",
       "    <tr>\n",
       "      <th>2296</th>\n",
       "      <td>The Librarian: Return to King Solomon's Mines</td>\n",
       "      <td>12.494010</td>\n",
       "    </tr>\n",
       "    <tr>\n",
       "      <th>4712</th>\n",
       "      <td>Puss in Boots: The Three Diablos</td>\n",
       "      <td>12.018446</td>\n",
       "    </tr>\n",
       "    <tr>\n",
       "      <th>2271</th>\n",
       "      <td>Big Nothing</td>\n",
       "      <td>11.802069</td>\n",
       "    </tr>\n",
       "    <tr>\n",
       "      <th>...</th>\n",
       "      <td>...</td>\n",
       "      <td>...</td>\n",
       "    </tr>\n",
       "    <tr>\n",
       "      <th>5567</th>\n",
       "      <td>Amiche da morire</td>\n",
       "      <td>2.572216</td>\n",
       "    </tr>\n",
       "    <tr>\n",
       "      <th>3641</th>\n",
       "      <td>Birdemic: Shock and Terror</td>\n",
       "      <td>2.529680</td>\n",
       "    </tr>\n",
       "    <tr>\n",
       "      <th>6393</th>\n",
       "      <td>The Present</td>\n",
       "      <td>2.435431</td>\n",
       "    </tr>\n",
       "    <tr>\n",
       "      <th>3068</th>\n",
       "      <td>Objectified</td>\n",
       "      <td>2.400134</td>\n",
       "    </tr>\n",
       "    <tr>\n",
       "      <th>3478</th>\n",
       "      <td>Cropsey</td>\n",
       "      <td>2.065029</td>\n",
       "    </tr>\n",
       "  </tbody>\n",
       "</table>\n",
       "<p>197 rows × 2 columns</p>\n",
       "</div>"
      ],
      "text/plain": [
       "                                              title  popularity\n",
       "6673                  Black Mirror: White Christmas   24.910782\n",
       "428                             The Opposite of Sex   14.734622\n",
       "2296  The Librarian: Return to King Solomon's Mines   12.494010\n",
       "4712               Puss in Boots: The Three Diablos   12.018446\n",
       "2271                                    Big Nothing   11.802069\n",
       "...                                             ...         ...\n",
       "5567                               Amiche da morire    2.572216\n",
       "3641                     Birdemic: Shock and Terror    2.529680\n",
       "6393                                    The Present    2.435431\n",
       "3068                                    Objectified    2.400134\n",
       "3478                                        Cropsey    2.065029\n",
       "\n",
       "[197 rows x 2 columns]"
      ]
     },
     "execution_count": 21,
     "metadata": {},
     "output_type": "execute_result"
    }
   ],
   "source": [
    "mdf[mdf['production_companies'].isna()].sort_values(by='popularity', ascending=False)[['title', 'popularity']]"
   ]
  },
  {
   "cell_type": "markdown",
   "metadata": {},
   "source": [
    "We have popular films with no producers, so we can't delete these films, so we will assign them the value of unknwon"
   ]
  },
  {
   "cell_type": "code",
   "execution_count": 22,
   "metadata": {},
   "outputs": [],
   "source": [
    "mdf['production_companies'] = mdf['production_companies'].fillna('Unknown')"
   ]
  },
  {
   "cell_type": "markdown",
   "metadata": {},
   "source": [
    "Finally we end up with this movies dataset"
   ]
  },
  {
   "cell_type": "code",
   "execution_count": 23,
   "metadata": {},
   "outputs": [
    {
     "data": {
      "text/plain": [
       "id                          0\n",
       "title                       0\n",
       "genres                      0\n",
       "overview                    0\n",
       "popularity                  0\n",
       "belongs_to_collection    5343\n",
       "production_companies        0\n",
       "vote_average                0\n",
       "vote_count                  0\n",
       "dtype: int64"
      ]
     },
     "execution_count": 23,
     "metadata": {},
     "output_type": "execute_result"
    }
   ],
   "source": [
    "mdf.isna().sum()"
   ]
  },
  {
   "cell_type": "markdown",
   "metadata": {},
   "source": [
    "In the recommendation system, we will use the 'Belongs to a Collection' feature with one-hot encoding, so the null values do not affect the process.\n",
    "\n",
    "We will combine vote_average and vote_count to calculate a weighted average for more accurate recommendations, using the \"Bayesian rating\" technique."
   ]
  },
  {
   "cell_type": "markdown",
   "metadata": {},
   "source": [
    "## Movies Crew\n",
    "\n",
    "Now we are going to add to the films their crew information, such as the actors and directors"
   ]
  },
  {
   "cell_type": "code",
   "execution_count": 24,
   "metadata": {},
   "outputs": [
    {
     "data": {
      "text/html": [
       "<div>\n",
       "<style scoped>\n",
       "    .dataframe tbody tr th:only-of-type {\n",
       "        vertical-align: middle;\n",
       "    }\n",
       "\n",
       "    .dataframe tbody tr th {\n",
       "        vertical-align: top;\n",
       "    }\n",
       "\n",
       "    .dataframe thead th {\n",
       "        text-align: right;\n",
       "    }\n",
       "</style>\n",
       "<table border=\"1\" class=\"dataframe\">\n",
       "  <thead>\n",
       "    <tr style=\"text-align: right;\">\n",
       "      <th></th>\n",
       "      <th>cast</th>\n",
       "      <th>crew</th>\n",
       "      <th>id</th>\n",
       "    </tr>\n",
       "  </thead>\n",
       "  <tbody>\n",
       "    <tr>\n",
       "      <th>0</th>\n",
       "      <td>[{'cast_id': 14, 'character': 'Woody (voice)',...</td>\n",
       "      <td>[{'credit_id': '52fe4284c3a36847f8024f49', 'de...</td>\n",
       "      <td>862</td>\n",
       "    </tr>\n",
       "    <tr>\n",
       "      <th>1</th>\n",
       "      <td>[{'cast_id': 1, 'character': 'Alan Parrish', '...</td>\n",
       "      <td>[{'credit_id': '52fe44bfc3a36847f80a7cd1', 'de...</td>\n",
       "      <td>8844</td>\n",
       "    </tr>\n",
       "    <tr>\n",
       "      <th>2</th>\n",
       "      <td>[{'cast_id': 2, 'character': 'Max Goldman', 'c...</td>\n",
       "      <td>[{'credit_id': '52fe466a9251416c75077a89', 'de...</td>\n",
       "      <td>15602</td>\n",
       "    </tr>\n",
       "    <tr>\n",
       "      <th>3</th>\n",
       "      <td>[{'cast_id': 1, 'character': \"Savannah 'Vannah...</td>\n",
       "      <td>[{'credit_id': '52fe44779251416c91011acb', 'de...</td>\n",
       "      <td>31357</td>\n",
       "    </tr>\n",
       "    <tr>\n",
       "      <th>4</th>\n",
       "      <td>[{'cast_id': 1, 'character': 'George Banks', '...</td>\n",
       "      <td>[{'credit_id': '52fe44959251416c75039ed7', 'de...</td>\n",
       "      <td>11862</td>\n",
       "    </tr>\n",
       "  </tbody>\n",
       "</table>\n",
       "</div>"
      ],
      "text/plain": [
       "                                                cast  \\\n",
       "0  [{'cast_id': 14, 'character': 'Woody (voice)',...   \n",
       "1  [{'cast_id': 1, 'character': 'Alan Parrish', '...   \n",
       "2  [{'cast_id': 2, 'character': 'Max Goldman', 'c...   \n",
       "3  [{'cast_id': 1, 'character': \"Savannah 'Vannah...   \n",
       "4  [{'cast_id': 1, 'character': 'George Banks', '...   \n",
       "\n",
       "                                                crew     id  \n",
       "0  [{'credit_id': '52fe4284c3a36847f8024f49', 'de...    862  \n",
       "1  [{'credit_id': '52fe44bfc3a36847f80a7cd1', 'de...   8844  \n",
       "2  [{'credit_id': '52fe466a9251416c75077a89', 'de...  15602  \n",
       "3  [{'credit_id': '52fe44779251416c91011acb', 'de...  31357  \n",
       "4  [{'credit_id': '52fe44959251416c75039ed7', 'de...  11862  "
      ]
     },
     "execution_count": 24,
     "metadata": {},
     "output_type": "execute_result"
    }
   ],
   "source": [
    "cdf = pd.read_csv('../Data/credits.csv')\n",
    "cdf.head()"
   ]
  },
  {
   "cell_type": "code",
   "execution_count": 25,
   "metadata": {},
   "outputs": [],
   "source": [
    "mdf['id'] = mdf['id'].astype('int')"
   ]
  },
  {
   "cell_type": "markdown",
   "metadata": {},
   "source": [
    "Merge the films crew with the films metadata"
   ]
  },
  {
   "cell_type": "code",
   "execution_count": 26,
   "metadata": {},
   "outputs": [
    {
     "data": {
      "text/plain": [
       "(6733, 11)"
      ]
     },
     "execution_count": 26,
     "metadata": {},
     "output_type": "execute_result"
    }
   ],
   "source": [
    "df = mdf.merge(cdf, on='id')\n",
    "df.shape"
   ]
  },
  {
   "cell_type": "markdown",
   "metadata": {},
   "source": [
    "We have more movies than before the merge, so lets drop duplicated movies"
   ]
  },
  {
   "cell_type": "code",
   "execution_count": 27,
   "metadata": {},
   "outputs": [
    {
     "data": {
      "text/plain": [
       "(6710, 11)"
      ]
     },
     "execution_count": 27,
     "metadata": {},
     "output_type": "execute_result"
    }
   ],
   "source": [
    "df.drop_duplicates(subset=['id'], inplace=True)\n",
    "df.shape"
   ]
  },
  {
   "cell_type": "markdown",
   "metadata": {},
   "source": [
    "Extract the directors and actors"
   ]
  },
  {
   "cell_type": "code",
   "execution_count": 28,
   "metadata": {},
   "outputs": [],
   "source": [
    "# Convert them to a python object\n",
    "df['crew'] = df['crew'].apply(lambda x: ast.literal_eval(x))\n",
    "df['cast'] = df['cast'].apply(lambda x: ast.literal_eval(x))"
   ]
  },
  {
   "cell_type": "code",
   "execution_count": 29,
   "metadata": {},
   "outputs": [],
   "source": [
    "# Function to extract the director from the crew\n",
    "def get_director(x):\n",
    "    for item in x:\n",
    "        if item['job'] == 'Director':\n",
    "            return item['name']\n",
    "    return np.nan"
   ]
  },
  {
   "cell_type": "code",
   "execution_count": 30,
   "metadata": {},
   "outputs": [],
   "source": [
    "df['director'] = df['crew'].apply(lambda x: get_director(x))\n",
    "df['cast'] = df['cast'].apply(lambda x: [item['name'] for item in x])"
   ]
  },
  {
   "cell_type": "code",
   "execution_count": 31,
   "metadata": {},
   "outputs": [],
   "source": [
    "# Nan in the films that do no have cast\n",
    "df['cast'] = df['cast'].apply(lambda x: np.nan if not x else x)"
   ]
  },
  {
   "cell_type": "markdown",
   "metadata": {},
   "source": [
    "Check how many films have no directors or actors"
   ]
  },
  {
   "cell_type": "code",
   "execution_count": 32,
   "metadata": {},
   "outputs": [
    {
     "name": "stdout",
     "output_type": "stream",
     "text": [
      "5 Films do not have director\n",
      "18 Films do not have actors\n"
     ]
    }
   ],
   "source": [
    "print(f'{df['director'].isna().sum()} Films do not have director')\n",
    "print(f'{df['cast'].isna().sum()} Films do not have actors')"
   ]
  },
  {
   "cell_type": "markdown",
   "metadata": {},
   "source": [
    "We only have 23 films without this information, which is great. We are going to delete this films from our dataset"
   ]
  },
  {
   "cell_type": "code",
   "execution_count": 33,
   "metadata": {},
   "outputs": [
    {
     "name": "stdout",
     "output_type": "stream",
     "text": [
      "0 Films do not have director\n",
      "0 Films do not have actors\n"
     ]
    }
   ],
   "source": [
    "df.dropna(subset=['director', 'cast'], inplace=True)\n",
    "print(f'{df['director'].isna().sum()} Films do not have director')\n",
    "print(f'{df['cast'].isna().sum()} Films do not have actors')"
   ]
  },
  {
   "cell_type": "code",
   "execution_count": 34,
   "metadata": {},
   "outputs": [],
   "source": [
    "# Drop Crew feature, since we have already extracted the director\n",
    "df.drop(columns='crew', inplace=True)"
   ]
  },
  {
   "cell_type": "markdown",
   "metadata": {},
   "source": [
    "## Final Dataset"
   ]
  },
  {
   "cell_type": "code",
   "execution_count": 35,
   "metadata": {},
   "outputs": [
    {
     "data": {
      "text/html": [
       "<div>\n",
       "<style scoped>\n",
       "    .dataframe tbody tr th:only-of-type {\n",
       "        vertical-align: middle;\n",
       "    }\n",
       "\n",
       "    .dataframe tbody tr th {\n",
       "        vertical-align: top;\n",
       "    }\n",
       "\n",
       "    .dataframe thead th {\n",
       "        text-align: right;\n",
       "    }\n",
       "</style>\n",
       "<table border=\"1\" class=\"dataframe\">\n",
       "  <thead>\n",
       "    <tr style=\"text-align: right;\">\n",
       "      <th></th>\n",
       "      <th>id</th>\n",
       "      <th>title</th>\n",
       "      <th>genres</th>\n",
       "      <th>overview</th>\n",
       "      <th>popularity</th>\n",
       "      <th>belongs_to_collection</th>\n",
       "      <th>production_companies</th>\n",
       "      <th>vote_average</th>\n",
       "      <th>vote_count</th>\n",
       "      <th>cast</th>\n",
       "      <th>director</th>\n",
       "    </tr>\n",
       "  </thead>\n",
       "  <tbody>\n",
       "    <tr>\n",
       "      <th>0</th>\n",
       "      <td>862</td>\n",
       "      <td>Toy Story</td>\n",
       "      <td>[Animation, Comedy, Family]</td>\n",
       "      <td>Led by Woody, Andy's toys live happily in his ...</td>\n",
       "      <td>21.946943</td>\n",
       "      <td>Toy Story Collection</td>\n",
       "      <td>[Pixar Animation Studios]</td>\n",
       "      <td>7.7</td>\n",
       "      <td>5415</td>\n",
       "      <td>[Tom Hanks, Tim Allen, Don Rickles, Jim Varney...</td>\n",
       "      <td>John Lasseter</td>\n",
       "    </tr>\n",
       "    <tr>\n",
       "      <th>1</th>\n",
       "      <td>8844</td>\n",
       "      <td>Jumanji</td>\n",
       "      <td>[Adventure, Fantasy, Family]</td>\n",
       "      <td>When siblings Judy and Peter discover an encha...</td>\n",
       "      <td>17.015539</td>\n",
       "      <td>NaN</td>\n",
       "      <td>[TriStar Pictures, Teitler Film, Interscope Co...</td>\n",
       "      <td>6.9</td>\n",
       "      <td>2413</td>\n",
       "      <td>[Robin Williams, Jonathan Hyde, Kirsten Dunst,...</td>\n",
       "      <td>Joe Johnston</td>\n",
       "    </tr>\n",
       "    <tr>\n",
       "      <th>2</th>\n",
       "      <td>15602</td>\n",
       "      <td>Grumpier Old Men</td>\n",
       "      <td>[Romance, Comedy]</td>\n",
       "      <td>A family wedding reignites the ancient feud be...</td>\n",
       "      <td>11.712900</td>\n",
       "      <td>Grumpy Old Men Collection</td>\n",
       "      <td>[Warner Bros., Lancaster Gate]</td>\n",
       "      <td>6.5</td>\n",
       "      <td>92</td>\n",
       "      <td>[Walter Matthau, Jack Lemmon, Ann-Margret, Sop...</td>\n",
       "      <td>Howard Deutch</td>\n",
       "    </tr>\n",
       "    <tr>\n",
       "      <th>3</th>\n",
       "      <td>11862</td>\n",
       "      <td>Father of the Bride Part II</td>\n",
       "      <td>[Comedy]</td>\n",
       "      <td>Just when George Banks has recovered from his ...</td>\n",
       "      <td>8.387519</td>\n",
       "      <td>Father of the Bride Collection</td>\n",
       "      <td>[Sandollar Productions, Touchstone Pictures]</td>\n",
       "      <td>5.7</td>\n",
       "      <td>173</td>\n",
       "      <td>[Steve Martin, Diane Keaton, Martin Short, Kim...</td>\n",
       "      <td>Charles Shyer</td>\n",
       "    </tr>\n",
       "    <tr>\n",
       "      <th>4</th>\n",
       "      <td>949</td>\n",
       "      <td>Heat</td>\n",
       "      <td>[Action, Crime, Drama, Thriller]</td>\n",
       "      <td>Obsessive master thief, Neil McCauley leads a ...</td>\n",
       "      <td>17.924927</td>\n",
       "      <td>NaN</td>\n",
       "      <td>[Regency Enterprises, Forward Pass, Warner Bros.]</td>\n",
       "      <td>7.7</td>\n",
       "      <td>1886</td>\n",
       "      <td>[Al Pacino, Robert De Niro, Val Kilmer, Jon Vo...</td>\n",
       "      <td>Michael Mann</td>\n",
       "    </tr>\n",
       "  </tbody>\n",
       "</table>\n",
       "</div>"
      ],
      "text/plain": [
       "      id                        title                            genres  \\\n",
       "0    862                    Toy Story       [Animation, Comedy, Family]   \n",
       "1   8844                      Jumanji      [Adventure, Fantasy, Family]   \n",
       "2  15602             Grumpier Old Men                 [Romance, Comedy]   \n",
       "3  11862  Father of the Bride Part II                          [Comedy]   \n",
       "4    949                         Heat  [Action, Crime, Drama, Thriller]   \n",
       "\n",
       "                                            overview  popularity  \\\n",
       "0  Led by Woody, Andy's toys live happily in his ...   21.946943   \n",
       "1  When siblings Judy and Peter discover an encha...   17.015539   \n",
       "2  A family wedding reignites the ancient feud be...   11.712900   \n",
       "3  Just when George Banks has recovered from his ...    8.387519   \n",
       "4  Obsessive master thief, Neil McCauley leads a ...   17.924927   \n",
       "\n",
       "            belongs_to_collection  \\\n",
       "0            Toy Story Collection   \n",
       "1                             NaN   \n",
       "2       Grumpy Old Men Collection   \n",
       "3  Father of the Bride Collection   \n",
       "4                             NaN   \n",
       "\n",
       "                                production_companies  vote_average  \\\n",
       "0                          [Pixar Animation Studios]           7.7   \n",
       "1  [TriStar Pictures, Teitler Film, Interscope Co...           6.9   \n",
       "2                     [Warner Bros., Lancaster Gate]           6.5   \n",
       "3       [Sandollar Productions, Touchstone Pictures]           5.7   \n",
       "4  [Regency Enterprises, Forward Pass, Warner Bros.]           7.7   \n",
       "\n",
       "   vote_count                                               cast  \\\n",
       "0        5415  [Tom Hanks, Tim Allen, Don Rickles, Jim Varney...   \n",
       "1        2413  [Robin Williams, Jonathan Hyde, Kirsten Dunst,...   \n",
       "2          92  [Walter Matthau, Jack Lemmon, Ann-Margret, Sop...   \n",
       "3         173  [Steve Martin, Diane Keaton, Martin Short, Kim...   \n",
       "4        1886  [Al Pacino, Robert De Niro, Val Kilmer, Jon Vo...   \n",
       "\n",
       "        director  \n",
       "0  John Lasseter  \n",
       "1   Joe Johnston  \n",
       "2  Howard Deutch  \n",
       "3  Charles Shyer  \n",
       "4   Michael Mann  "
      ]
     },
     "execution_count": 35,
     "metadata": {},
     "output_type": "execute_result"
    }
   ],
   "source": [
    "df.head()"
   ]
  },
  {
   "cell_type": "code",
   "execution_count": 36,
   "metadata": {},
   "outputs": [
    {
     "data": {
      "text/plain": [
       "(6687, 11)"
      ]
     },
     "execution_count": 36,
     "metadata": {},
     "output_type": "execute_result"
    }
   ],
   "source": [
    "df.shape"
   ]
  },
  {
   "cell_type": "code",
   "execution_count": 38,
   "metadata": {},
   "outputs": [
    {
     "data": {
      "text/plain": [
       "id                          0\n",
       "title                       0\n",
       "genres                      0\n",
       "overview                    0\n",
       "popularity                  0\n",
       "belongs_to_collection    5321\n",
       "production_companies        0\n",
       "vote_average                0\n",
       "vote_count                  0\n",
       "cast                        0\n",
       "director                    0\n",
       "dtype: int64"
      ]
     },
     "execution_count": 38,
     "metadata": {},
     "output_type": "execute_result"
    }
   ],
   "source": [
    "df.isnull().sum()"
   ]
  },
  {
   "cell_type": "markdown",
   "metadata": {},
   "source": [
    "Save the final dataset"
   ]
  },
  {
   "cell_type": "code",
   "execution_count": 37,
   "metadata": {},
   "outputs": [],
   "source": [
    "df.to_csv('../Data/movies_clean.csv')"
   ]
  }
 ],
 "metadata": {
  "kernelspec": {
   "display_name": "Python 3",
   "language": "python",
   "name": "python3"
  },
  "language_info": {
   "codemirror_mode": {
    "name": "ipython",
    "version": 3
   },
   "file_extension": ".py",
   "mimetype": "text/x-python",
   "name": "python",
   "nbconvert_exporter": "python",
   "pygments_lexer": "ipython3",
   "version": "3.12.0"
  }
 },
 "nbformat": 4,
 "nbformat_minor": 2
}
